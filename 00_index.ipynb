{
 "cells": [
  {
   "cell_type": "markdown",
   "metadata": {
    "Collapsed": "false",
    "tags": []
   },
   "source": [
    "<div class=\"header\">\n",
    "  <a href=\"http://www.dynamore-project.eu\" title=\"Dynamic MOdeling of REsilience\">\n",
    "    <img src=\"./img/DynaMORE.png\" alt=\"DynaMORE\" width='25%' height=auto>\n",
    "  </a>\n",
    "  <img src=\"./img/emp.png\" width='12%' height='10px'>\n",
    "  <a href=\"https://www.fdm.uni-freiburg.de\" title=\"Freiburg Center for Data Analysis and Modeling\">\n",
    "    <img src=\"./img/fdm.png\" alt=\"FDM\" width='20%' height=auto>\n",
    "  </a>\n",
    "  <img src=\"./img/emp.png\" width='12%' height='10px'>\n",
    "  <a href=\"http://www.uni-freiburg.de\" title=\"Alberts-Ludwig-Universität Freiburg\">\n",
    "    <img    src=\"./img/uniFR.png\" alt=\"Uni Freiburg\" width='10%' height=auto>\n",
    "  </a>\n",
    "</div>"
   ]
  },
  {
   "cell_type": "markdown",
   "metadata": {},
   "source": [
    "<hr style=\"margin-top: 5px; margin-bottom: 5px\">\n",
    "<par> &nbsp </par>\n",
    "<span style=\"float:right;\"><a href=\"./01_Julia_Basics1.ipynb\"> >>> 01 - Julia basics I >>> </a></span>\n",
    "<hr style=\"margin-top: 5px; margin-bottom: 5px\">"
   ]
  },
  {
   "cell_type": "markdown",
   "metadata": {},
   "source": [
    "# Wlak in Python, Run in C, Enjoy **Julia**"
   ]
  },
  {
   "cell_type": "markdown",
   "metadata": {
    "jp-MarkdownHeadingCollapsed": true,
    "tags": []
   },
   "source": [
    "Running the very first program successfully is the biggest hurdle in switching to a new language. This tutorial is intended to be the gateway to executing your first Julia program. \n",
    "\n",
    "## Julia is:\n",
    "- open-source\n",
    "- high level, high-performance, dynamically typed \n",
    "- general-purpose, can be used to write any application\n",
    "- well suited for numerical analysis and computational science"
   ]
  },
  {
   "cell_type": "markdown",
   "metadata": {},
   "source": [
    "## Offers:\n",
    "- interactive command-line read–eval–print loop ([REPL](https://docs.julialang.org/en/v1/stdlib/REPL/)), prompt: `julia>`\n",
    "- standard modules (Core and Base)\n",
    "    * need to be loaded by `using ModuleName`: Dates, LinearAlgebra, Markdown, Pkg, Printf, Random, Statistics, Unicode\n",
    "- generic programming, types to-be-specified-later\n",
    "- multiple dispatch as its special feature\n",
    "    > `foo(1,2)` <br>\n",
    "    > `foo(1.,2.)` <br>\n",
    "    > `julia> methods(+)`\n",
    "- parallel and distributed computing\n",
    "- efficient memory management\n",
    "- efficient support for Unicode\n",
    "- interaction with C, Fortran, Python, R\n",
    "- metaprogramming facilities: access to expressions, code generation (eval), **macros**"
   ]
  },
  {
   "cell_type": "markdown",
   "metadata": {},
   "source": [
    "- the **bridge** between dynamic (interpreted, scripting) and static (compiled) languages\n",
    "    * as expressive as to Python, R, Matlab, ... (looks like natural languages)\n",
    "    * as fast as C and Fortran\n",
    "    * in Julia types are run-time objects\n",
    "- type expressiveness (less/no typecasting), while still maintaining full static type-safety (advanced topic)\n",
    "    * \"flexible dynamic language, appropriate for scientific and numerical computing, with performance comparable to traditional statically-typed languages\"\n",
    "- much faster, thanks to type inference through LLVM (low level virtual machine) JIT (just-in-time compilation)\n",
    "    * the first time you call a function, it is compiled (takes longer)\n",
    "    * subsequent calls use the compiled version\n",
    "    * often fast within a factor of two relative to fully optimized C code\n",
    "<div>\n",
    "    <center><a href=\"https://julialang.org/benchmarks/\"><img src=\"./img/bench1.png\" width=\"600\"/></a></center>\n",
    "</div>    "
   ]
  },
  {
   "cell_type": "markdown",
   "metadata": {},
   "source": [
    "- growing library, getting popular for Data Science (appeared in 2012 and not in top 20 yet)\n",
    "<div>\n",
    "<center><img src=\"./img/PyPlPopularitY.png\" width=\"800\"/></center>\n",
    "</div>"
   ]
  },
  {
   "cell_type": "markdown",
   "metadata": {},
   "source": [
    "- extends \"stdlib\" with community packages\n",
    "    * over 7,400 registered packages as of [Apr 22, 2022](https://github.com/JuliaLang/www.julialang.org/blob/main/packages/index.md)\n",
    "- manages version and dependency control by **environments** (project isolation and reproducibility)\n",
    "    * Project.toml\n",
    "    * Manifest.toml\n",
    "- on Terminal, `cd JuliaMORE` and `julia` \n",
    "- built-in package manager [**Pkg**](https://docs.julialang.org/en/v1/stdlib/Pkg/)(git based), triggered on Julia REPL\n",
    "    * `julia> ]` (changes the prompt to `(@v1.7) pkg>`, `backspace` to exit)\n",
    "        > `(@v1.7) pkg> activate .`  <br>\n",
    "        > `(JuliaMORE) pkg> add SomePackage`\n",
    "    * `julia> using Pkg`\n",
    "        > `julia> Pkg.activate(\".\")`  <br>\n",
    "        > `julia> Pkg.add(\"SomePackage\")`\n",
    "- to get help, type `?` on REPL (`help?>`, `backspace` to exit) "
   ]
  },
  {
   "cell_type": "code",
   "execution_count": null,
   "metadata": {},
   "outputs": [],
   "source": [
    "using Pkg; Pkg.activate(\".\")"
   ]
  },
  {
   "cell_type": "markdown",
   "metadata": {},
   "source": [
    "<div class=\"alert alert-block\" style=\"background-color:#BBD0F3\">\n",
    "<b>If you use computationally intensive mixed-effects models, <a href=\"https://juliastats.org/MixedModels.jl/stable/\"> MixedModels.jl </a> is your bet</b>\n",
    "</div>\n",
    "\n",
    "- my simulations: **10x** faster than *lme4* in R"
   ]
  },
  {
   "cell_type": "markdown",
   "metadata": {},
   "source": [
    "## Cons:\n",
    "- immature ecosystem\n",
    "    * Julia:  7,400 -- [May 25, 2022](https://github.com/JuliaLang/www.julialang.org/blob/main/packages/index.md)\n",
    "    * Python: 377,645 -- [May 25, 2022](https://pypi.org/), today: 378,675\n",
    "    * R, CRAN: 18563 -- [May 25, 2022](https://cran.r-project.org/web/packages/)\n",
    "- still under cunstruction\n",
    "    * Google $\\Rightarrow$ `Pkg.installed()` $\\Rightarrow$ `Warning: Pkg.installed() is deprecated`\n",
    "- not always expressive\n",
    "    * drops one column in a dataframe\n",
    "        >  `select!(df, Not(:toDrop))`\n",
    "    * aliases \n",
    "        >  `Array{Int64, 1} == Vector{Int64}` <br>\n",
    "        >  `Array{Int64, 2} == Matrix{Int64}`\n",
    "- advanced flaws:\n",
    "    * [What's Bad About Julia | Jeff Bezanson](https://www.youtube.com/watch?v=TPuJsgyu87U)"
   ]
  },
  {
   "cell_type": "markdown",
   "metadata": {},
   "source": [
    "## Resources\n",
    "- [Why We Created Julia](https://julialang.org/blog/2012/02/why-we-created-julia/)\n",
    "- [TIOBE Index](https://www.tiobe.com/tiobe-index/)\n",
    "- [PYPL Index](https://pypl.github.io/PYPL.html)"
   ]
  },
  {
   "cell_type": "markdown",
   "metadata": {},
   "source": [
    "<hr style=\"margin-top: 5px; margin-bottom: 5px\">\n",
    "<par> &nbsp </par>\n",
    "<span style=\"float:right;\"><a href=\"./01_Julia_Basics1.ipynb\"> >>> 01 - Julia basics I >>> </a></span>\n",
    "<hr style=\"margin-top: 5px; margin-bottom: 5px\">"
   ]
  },
  {
   "cell_type": "markdown",
   "metadata": {},
   "source": [
    "#### Author\n",
    "* [Shakoor Pooseh](http://sysbio.uni-freiburg.de/spooseh/) <br>\n",
    "University of Freiburg\n",
    "\n",
    "#### Access\n",
    "- [GitHub](https://github.com/spooseh/JuliaMORE) for notebooks\n",
    "- [Homepage](http://sysbio.uni-freiburg.de/spooseh/) for html"
   ]
  },
  {
   "cell_type": "markdown",
   "metadata": {
    "Collapsed": "false"
   },
   "source": [
    "<hr style=\"margin-top: 5px; margin-bottom: 5px\">\n",
    "&copy; 2022\n",
    "<a rel=\"license\" href=\"http://creativecommons.org/licenses/by/4.0/\"><img style=\"float: right\" alt=\"Creative Commons Licence\" style=\"border-width:0\" src=\"https://i.creativecommons.org/l/by/4.0/88x31.png\" /></a>"
   ]
  }
 ],
 "metadata": {
  "kernelspec": {
   "display_name": "Julia 1.7.2",
   "language": "julia",
   "name": "julia-1.7"
  },
  "language_info": {
   "file_extension": ".jl",
   "mimetype": "application/julia",
   "name": "julia",
   "version": "1.7.2"
  }
 },
 "nbformat": 4,
 "nbformat_minor": 4
}
