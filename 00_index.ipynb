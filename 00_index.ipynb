{
 "cells": [
  {
   "attachments": {},
   "cell_type": "markdown",
   "metadata": {
    "Collapsed": "false",
    "slideshow": {
     "slide_type": "skip"
    },
    "tags": []
   },
   "source": [
    "<table style=\"border: 0px solid;\">\n",
    "  <tr>\n",
    "    <td style=\"border: 0px solid\" width = 25%>\n",
    "      <a href=\"www.dynamore-project.eu\">\n",
    "          <img src=\"./img/DynaMORE.png\" alt=\"DynaMORE\" width = 55%>\n",
    "      </a>\n",
    "    </td>\n",
    "    <td style=\"border: 0px solid\" width = 25%>\n",
    "      <a href=\"www.fdm.uni-freiburg.de\">\n",
    "          <img src=\"./img/fdm.png\"     alt=\"FDM\"      width = 35%>\n",
    "      </a>\n",
    "    </td>\n",
    "    <td style=\"border: 0px solid\" width = 25%>\n",
    "      <a href=\"www.uni-freiburg.de\">\n",
    "          <img src=\"./img/uniFR.png\"    alt=\"UniFr\"    width = 20%>\n",
    "      </a>\n",
    "    </td>\n",
    "    <td style=\"border: 0px solid\" width = 25%>\n",
    "      <a href=\"\">\n",
    "          <img src=\"./img/EU.jpg\"       alt=\"EU\"       width = 30%>\n",
    "      </a>\n",
    "    </td>\n",
    "  </tr>\n",
    "</table>"
   ]
  },
  {
   "cell_type": "markdown",
   "metadata": {
    "slideshow": {
     "slide_type": "skip"
    }
   },
   "source": [
    "<hr style=\"margin-top: 5px; margin-bottom: 5px\">\n",
    "<par> &nbsp </par>\n",
    "<span style=\"float:right;\"><a href=\"./01_Julia_Basics1.ipynb\"> >>> 01 - Julia basics I >>> </a></span>\n",
    "<hr style=\"margin-top: 5px; margin-bottom: 5px\">"
   ]
  },
  {
   "attachments": {},
   "cell_type": "markdown",
   "metadata": {
    "slideshow": {
     "slide_type": "slide"
    },
    "tags": []
   },
   "source": [
    "# Wlak in Python, Run in C, Enjoy **Julia**\n",
    "\n",
    "- Running the very first program successfully is the biggest hurdle in switching to a new language.\n",
    "- This tutorial is intended to be the gateway to executing your first Julia program. "
   ]
  },
  {
   "attachments": {},
   "cell_type": "markdown",
   "metadata": {
    "slideshow": {
     "slide_type": "slide"
    }
   },
   "source": [
    "## Julia is\n",
    "- open-source\n",
    "- high level, high-performance, dynamically typed \n",
    "- general-purpose, can be used to write any application\n",
    "- well suited for numerical analysis and computational science\n",
    "\n",
    "### Seems to be\n",
    "- the **bridge** between dynamic (interpreted, scripting) and static (compiled) languages\n",
    "    * as expressive as Python, R, Matlab, ... (looks like natural languages)\n",
    "    * as fast as C and Fortran (you need to enter the \"rabit hole\")\n",
    "    * in Julia types are run-time objects"
   ]
  },
  {
   "cell_type": "markdown",
   "metadata": {
    "slideshow": {
     "slide_type": "slide"
    }
   },
   "source": [
    "## Offers\n",
    "- interactive command-line read–eval–print loop ([REPL](https://docs.julialang.org/en/v1/stdlib/REPL/)), prompt: `julia>`\n",
    "- standard modules (Core and Base)\n",
    "    * need to be loaded by `using ModuleName`: Dates, LinearAlgebra, Markdown, Pkg, Printf, Random, Statistics, Unicode\n",
    "- generic programming, types to-be-specified-later\n",
    "- multiple dispatch as its special feature\n",
    "    > `foo(1,2)` <br>\n",
    "    > `foo(1.,2.)` <br>\n",
    "    > `julia> methods(+)`\n",
    "- parallel and distributed computing\n",
    "- efficient memory management\n",
    "- efficient support for Unicode\n",
    "- interaction with C, Fortran, Python, R\n",
    "- metaprogramming facilities: access to expressions, code generation (eval), **macros**\n",
    "- type expressiveness (less/no typecasting), while still maintaining full static type-safety (advanced topic)\n",
    "    * \"flexible dynamic language, appropriate for scientific and numerical computing, with performance comparable to traditional statically-typed languages\""
   ]
  },
  {
   "cell_type": "markdown",
   "metadata": {
    "slideshow": {
     "slide_type": "slide"
    }
   },
   "source": [
    "## Really fast\n",
    "- exploits type system + multiple dispatch + JIT (just-in-time compilation)\n",
    "- type inference through LLVM (low level virtual machine)\n",
    "- type-stable functions are compiled into very optimized code like a C program (advanced topic)\n",
    "    * the first time you call a function, it is compiled (takes longer)\n",
    "    * subsequent calls use the compiled version\n",
    "    * often fast within a factor of two relative to fully optimized C code\n",
    "<div>\n",
    "    <center><a href=\"https://julialang.org/benchmarks/\"><img src=\"./img/bench1.png\" width=\"800\"/></a></center>\n",
    "</div>  \n",
    "\n",
    "<div class=\"alert alert-block\" style=\"background-color:#BBD0F3\">\n",
    "<b>If you use computationally intensive mixed-effects models, consider <a href=\"https://juliastats.org/MixedModels.jl/stable/\"> MixedModels.jl </a></b>\n",
    "<br> - my simulations: <b>10x</b> faster than <b>lme4</b> in R\n",
    "</div>\n",
    "\n"
   ]
  },
  {
   "attachments": {},
   "cell_type": "markdown",
   "metadata": {
    "slideshow": {
     "slide_type": "slide"
    }
   },
   "source": [
    "## Still young\n",
    "- getting popular for Data Science (appeared in 2012 and not in top 20 yet)\n",
    "<div>\n",
    "<center><img src=\"./img/PyPlPopularitY.png\" width=\"800\"/></center>\n",
    "</div>\n",
    "- extends \"stdlib\" with community packages\n",
    "\n",
    "|   | May 2022 | March 2023 |\n",
    "|-:|-:|-:|\n",
    "| R | 18,563 | [19,262](https://cran.r-project.org/web/packages/)|\n",
    "|Julia| 7,400 | [9,030](https://github.com/JuliaRegistries/General/blob/master/Registry.toml)|\n",
    "|Python| 377,645 | [436,431](https://pypi.org/) |"
   ]
  },
  {
   "cell_type": "markdown",
   "metadata": {
    "slideshow": {
     "slide_type": "slide"
    }
   },
   "source": [
    "## Project isolation\n",
    "- manages version and dependency control by **environments** (helps reproducibility)\n",
    "    * Project.toml\n",
    "    * Manifest.toml\n",
    "- on Terminal, `cd JuliaMORE` and `julia` \n",
    "- built-in package manager [**Pkg**](https://docs.julialang.org/en/v1/stdlib/Pkg/)(git based), triggered on Julia REPL\n",
    "    * `julia> ]` (changes the prompt to `(@v1.7) pkg>`, `backspace` to exit)\n",
    "        > `(@v1.7) pkg> activate .`  <br>\n",
    "        > `(JuliaMORE) pkg> add SomePackage`\n",
    "    * `julia> using Pkg`\n",
    "        > `julia> Pkg.activate(\".\")`  <br>\n",
    "        > `julia> Pkg.add(\"SomePackage\")`\n",
    "- to get help, type `?` on REPL (`help?>`, `backspace` to exit) "
   ]
  },
  {
   "attachments": {},
   "cell_type": "markdown",
   "metadata": {
    "slideshow": {
     "slide_type": "slide"
    }
   },
   "source": [
    "## Cons\n",
    "- immature ecosystem\n",
    "- still under cunstruction\n",
    "    * Google $\\Rightarrow$ `Pkg.installed()` $\\Rightarrow$ `Warning: Pkg.installed() is deprecated`\n",
    "- not always expressive\n",
    "    * drops one column in a dataframe\n",
    "        >  `select!(df, Not(:toDrop))`\n",
    "    * aliases \n",
    "        >  `Array{Int64, 1} == Vector{Int64}` <br>\n",
    "        >  `Array{Int64, 2} == Matrix{Int64}`\n",
    "- not object oriented\n",
    "- advanced flaws: [What's Bad About Julia | Jeff Bezanson](https://www.youtube.com/watch?v=TPuJsgyu87U)"
   ]
  },
  {
   "cell_type": "markdown",
   "metadata": {
    "slideshow": {
     "slide_type": "skip"
    }
   },
   "source": [
    "## Resources\n",
    "- [Why We Created Julia](https://julialang.org/blog/2012/02/why-we-created-julia/)\n",
    "- [TIOBE Index](https://www.tiobe.com/tiobe-index/)\n",
    "- [PYPL Index](https://pypl.github.io/PYPL.html)"
   ]
  },
  {
   "cell_type": "markdown",
   "metadata": {
    "slideshow": {
     "slide_type": "skip"
    }
   },
   "source": [
    "<hr style=\"margin-top: 5px; margin-bottom: 5px\">\n",
    "<par> &nbsp </par>\n",
    "<span style=\"float:right;\"><a href=\"./01_Julia_Basics1.ipynb\"> >>> 01 - Julia basics I >>> </a></span>\n",
    "<hr style=\"margin-top: 5px; margin-bottom: 5px\">"
   ]
  },
  {
   "cell_type": "markdown",
   "metadata": {
    "slideshow": {
     "slide_type": "skip"
    }
   },
   "source": [
    "#### Author\n",
    "* [Shakoor Pooseh](http://sysbio.uni-freiburg.de/spooseh/) <br>\n",
    "University of Freiburg\n",
    "\n",
    "#### Access\n",
    "- [GitHub](https://github.com/spooseh/JuliaMORE) for notebooks\n",
    "- [Homepage](http://sysbio.uni-freiburg.de/spooseh/) for html"
   ]
  },
  {
   "cell_type": "markdown",
   "metadata": {
    "Collapsed": "false",
    "slideshow": {
     "slide_type": "skip"
    }
   },
   "source": [
    "<hr style=\"margin-top: 5px; margin-bottom: 5px\">\n",
    "&copy; 2022\n",
    "<a rel=\"license\" href=\"http://creativecommons.org/licenses/by/4.0/\"><img style=\"float: right\" alt=\"Creative Commons Licence\" style=\"border-width:0\" src=\"https://i.creativecommons.org/l/by/4.0/88x31.png\" /></a>"
   ]
  }
 ],
 "metadata": {
  "celltoolbar": "Slideshow",
  "kernelspec": {
   "display_name": "Julia 1.8.4",
   "language": "julia",
   "name": "julia-1.8"
  },
  "language_info": {
   "file_extension": ".jl",
   "mimetype": "application/julia",
   "name": "julia",
   "version": "1.8.4"
  }
 },
 "nbformat": 4,
 "nbformat_minor": 4
}
