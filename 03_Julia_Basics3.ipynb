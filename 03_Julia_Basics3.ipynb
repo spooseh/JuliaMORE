{
 "cells": [
  {
   "cell_type": "markdown",
   "metadata": {},
   "source": [
    "<hr style=\"margin-top: 5px; margin-bottom: 5px\">\n",
    "<a href=\"./02_Julia_Basics2.ipynb\"> <<< 02 - Julia basics II <<< </a>\n",
    "<span style=\"float:right;\"><a href=\"./04_Julia_Plots.ipynb\"> >>> 04 - Julia Plots >>> </a></span>\n",
    "<hr style=\"margin-top: 5px; margin-bottom: 5px\">"
   ]
  },
  {
   "cell_type": "markdown",
   "metadata": {},
   "source": [
    "# Julia Basics III"
   ]
  },
  {
   "cell_type": "markdown",
   "metadata": {},
   "source": [
    "## Control flow"
   ]
  },
  {
   "cell_type": "code",
   "execution_count": null,
   "metadata": {},
   "outputs": [],
   "source": [
    "i = 1\n",
    "while true\n",
    "    for (x,y) in zip(1:4,['a','b','c','d'])\n",
    "        if i % 2 != 0\n",
    "            println(\"$x: $y\")\n",
    "        else\n",
    "            continue\n",
    "        end\n",
    "    end\n",
    "    println()\n",
    "    i += 1 # var = var - 1\n",
    "    if i > 4\n",
    "        break\n",
    "    end\n",
    "end"
   ]
  },
  {
   "cell_type": "markdown",
   "metadata": {},
   "source": [
    "## List comperhension"
   ]
  },
  {
   "cell_type": "code",
   "execution_count": null,
   "metadata": {},
   "outputs": [],
   "source": [
    "a = [i^2 for i in 1:5 if i % 2 == 0]"
   ]
  },
  {
   "cell_type": "markdown",
   "metadata": {},
   "source": [
    "### Generators\n",
    "- if you don't need the underlying array"
   ]
  },
  {
   "cell_type": "code",
   "execution_count": null,
   "metadata": {},
   "outputs": [],
   "source": [
    "sum(i^2 for i in 1:5 if i % 2 == 0)"
   ]
  },
  {
   "cell_type": "markdown",
   "metadata": {},
   "source": [
    "## Mapping `map(f, inputs)`"
   ]
  },
  {
   "cell_type": "code",
   "execution_count": null,
   "metadata": {},
   "outputs": [],
   "source": [
    "a = map(i->i^2, 1:5)"
   ]
  },
  {
   "cell_type": "code",
   "execution_count": null,
   "metadata": {},
   "outputs": [],
   "source": [
    "a = map(1:5) do i\n",
    "    if i % 2 == 0\n",
    "        i^2\n",
    "    else\n",
    "        i\n",
    "    end\n",
    "end"
   ]
  },
  {
   "cell_type": "markdown",
   "metadata": {},
   "source": [
    "## [Functions](https://docs.julialang.org/en/v1/manual/functions/)"
   ]
  },
  {
   "cell_type": "markdown",
   "metadata": {},
   "source": [
    "- a function is an object that maps a tuple of argument values to a return value\n",
    "- can alter and be affected by the global state of the program\n",
    "- a block of code streching from `function` to `end`\n",
    "- returns the value of the last expression evaluated"
   ]
  },
  {
   "cell_type": "markdown",
   "metadata": {},
   "source": [
    "### Declare a function"
   ]
  },
  {
   "cell_type": "code",
   "execution_count": null,
   "metadata": {
    "tags": []
   },
   "outputs": [],
   "source": [
    "\"\"\"\n",
    "    f(x,y)\n",
    "Compute sum of two numbers\n",
    "\n",
    "By convention add documentation right above the definition enclosed in a pair of `\\\"\"\"`. \n",
    "Start with its signature and give a one line description in imperative.\n",
    "#### You can use markdown\n",
    "- `x`: first arg\n",
    "\"\"\"\n",
    "function f(x,y)\n",
    "    x + y\n",
    "end"
   ]
  },
  {
   "cell_type": "code",
   "execution_count": null,
   "metadata": {},
   "outputs": [],
   "source": [
    "?f"
   ]
  },
  {
   "cell_type": "code",
   "execution_count": null,
   "metadata": {},
   "outputs": [],
   "source": [
    "f(x,y) = x + y"
   ]
  },
  {
   "cell_type": "markdown",
   "metadata": {},
   "source": [
    "### Almost never declare the types "
   ]
  },
  {
   "cell_type": "code",
   "execution_count": null,
   "metadata": {},
   "outputs": [],
   "source": [
    "# BAD\n",
    "x = [5.0, 6.0, 2.1]\n",
    "\n",
    "function g(x::Array{Float64, 1})   # not generic!\n",
    "    y = zeros(length(x))   # not generic, hidden float!\n",
    "    z = Diagonal(ones(length(x)))  # not generic, hidden float!\n",
    "    q = ones(length(x))\n",
    "    y .= z * x + q\n",
    "    return y\n",
    "end\n",
    "\n",
    "g(x)\n",
    "\n",
    "# GOOD\n",
    "function g2(x)  # or `x::AbstractVector`\n",
    "    y = similar(x)\n",
    "    z = I\n",
    "    q = ones(eltype(x), length(x))  # or `fill(one(x), length(x))`\n",
    "    y .= z * x + q\n",
    "    return y\n",
    "end\n"
   ]
  },
  {
   "cell_type": "markdown",
   "metadata": {},
   "source": [
    "### It is necessary to declare type around multiple dispatch"
   ]
  },
  {
   "cell_type": "code",
   "execution_count": null,
   "metadata": {},
   "outputs": [],
   "source": [
    "using Printf\n",
    "function print_type(x::Int64)\n",
    "    @printf(\"You entered an int\")\n",
    "end\n",
    "function print_type(x::Float64)\n",
    "    @printf(\"You entered a float\")\n",
    "end"
   ]
  },
  {
   "cell_type": "markdown",
   "metadata": {},
   "source": [
    "## [Linear Algebra](https://docs.julialang.org/en/v1/stdlib/LinearAlgebra/)"
   ]
  },
  {
   "cell_type": "code",
   "execution_count": null,
   "metadata": {},
   "outputs": [],
   "source": [
    "using LinearAlgebra\n",
    "A = [1 2 3; 4 1 6; 7 8 1]\n",
    "println(det(A))"
   ]
  },
  {
   "cell_type": "markdown",
   "metadata": {
    "tags": []
   },
   "source": [
    "## Resources"
   ]
  },
  {
   "cell_type": "markdown",
   "metadata": {},
   "source": [
    "- [Julia documentation](https://docs.julialang.org/en/v1/manual/getting-started/)\n",
    "- [Performance Tips](https://julia-doc.readthedocs.io/en/latest/manual/performance-tips/)"
   ]
  },
  {
   "cell_type": "markdown",
   "metadata": {},
   "source": [
    "<hr style=\"margin-top: 5px; margin-bottom: 5px\">\n",
    "<a href=\"./02_Julia_Basics2.ipynb\"> <<< 02 - Julia basics II <<< </a>\n",
    "<span style=\"float:right;\"><a href=\"./04_Julia_Plots.ipynb\"> >>> 04 - Julia Plots >>> </a></span>\n",
    "<hr style=\"margin-top: 5px; margin-bottom: 5px\">"
   ]
  },
  {
   "cell_type": "markdown",
   "metadata": {
    "Collapsed": "false"
   },
   "source": [
    "&copy; 2022\n",
    "<a rel=\"license\" href=\"http://creativecommons.org/licenses/by/4.0/\"><img style=\"float: right\" alt=\"Creative Commons Licence\" style=\"border-width:0\" src=\"https://i.creativecommons.org/l/by/4.0/88x31.png\" /></a>"
   ]
  }
 ],
 "metadata": {
  "kernelspec": {
   "display_name": "Julia 1.7.2",
   "language": "julia",
   "name": "julia-1.7"
  },
  "language_info": {
   "file_extension": ".jl",
   "mimetype": "application/julia",
   "name": "julia",
   "version": "1.7.2"
  }
 },
 "nbformat": 4,
 "nbformat_minor": 4
}
