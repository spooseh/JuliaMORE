{
 "cells": [
  {
   "cell_type": "markdown",
   "metadata": {},
   "source": [
    "<hr style=\"margin-top: 5px; margin-bottom: 5px\">\n",
    "<a href=\"./02_Julia_Basics2.ipynb\"> <<< 02 - Julia basics II <<< </a>\n",
    "<span style=\"float:right;\"><a href=\"./04_Julia_Plots.ipynb\"> >>> 04 - Julia Plots >>> </a></span>\n",
    "<hr style=\"margin-top: 5px; margin-bottom: 5px\">"
   ]
  },
  {
   "cell_type": "markdown",
   "metadata": {},
   "source": [
    "# Julia Basics III"
   ]
  },
  {
   "cell_type": "markdown",
   "metadata": {},
   "source": [
    "## Control flow"
   ]
  },
  {
   "cell_type": "code",
   "execution_count": 1,
   "metadata": {
    "collapsed": true,
    "jupyter": {
     "outputs_hidden": true
    },
    "tags": []
   },
   "outputs": [
    {
     "name": "stdout",
     "output_type": "stream",
     "text": [
      "1: a\n",
      "2: b\n",
      "3: c\n",
      "4: d\n",
      "\n",
      "\n",
      "1: a\n",
      "2: b\n",
      "3: c\n",
      "4: d\n",
      "\n",
      "\n"
     ]
    }
   ],
   "source": [
    "i = 1\n",
    "while true\n",
    "    for (x,y) in zip(1:4,['a','b','c','d'])\n",
    "        if i % 2 != 0\n",
    "            println(\"$x: $y\")\n",
    "        else\n",
    "            continue\n",
    "        end\n",
    "    end\n",
    "    println()\n",
    "    i += 1 # var = var - 1\n",
    "    if i > 4\n",
    "        break\n",
    "    end\n",
    "end"
   ]
  },
  {
   "cell_type": "markdown",
   "metadata": {},
   "source": [
    "## Watch out for the scoping rules\n",
    "Loops introduce their own scope.\n",
    "The following code works in interactive mode (notebook is interactive) but not in a script."
   ]
  },
  {
   "cell_type": "code",
   "execution_count": 5,
   "metadata": {
    "tags": []
   },
   "outputs": [
    {
     "data": {
      "text/plain": [
       "3-element Vector{Any}:\n",
       " 1\n",
       " 2\n",
       " 3"
      ]
     },
     "execution_count": 5,
     "metadata": {},
     "output_type": "execute_result"
    }
   ],
   "source": [
    "x = []\n",
    "for i in 1:3\n",
    "    x = vcat(x, i)\n",
    "end\n",
    "x"
   ]
  },
  {
   "cell_type": "markdown",
   "metadata": {},
   "source": [
    "Run in VSCode:\n",
    "```julia\n",
    "Warning: Assignment to `x` in soft scope\n",
    "ERROR: UndefVarError: x not defined\n",
    "```\n",
    "Wrap the code in a function:\n",
    "```julia\n",
    "function test_scope()\n",
    "    x = []\n",
    "    for i in 1:3\n",
    "        x = vcat(x, i)\n",
    "    end\n",
    "    return x\n",
    "end\n",
    "test()\n",
    "```"
   ]
  },
  {
   "cell_type": "markdown",
   "metadata": {},
   "source": [
    "## List comperhension"
   ]
  },
  {
   "cell_type": "code",
   "execution_count": 6,
   "metadata": {
    "tags": []
   },
   "outputs": [
    {
     "data": {
      "text/plain": [
       "2-element Vector{Int64}:\n",
       "  4\n",
       " 16"
      ]
     },
     "execution_count": 6,
     "metadata": {},
     "output_type": "execute_result"
    }
   ],
   "source": [
    "a = [i^2 for i in 1:5 if i % 2 == 0]"
   ]
  },
  {
   "cell_type": "markdown",
   "metadata": {},
   "source": [
    "### Generators\n",
    "- if you don't need the underlying array"
   ]
  },
  {
   "cell_type": "code",
   "execution_count": null,
   "metadata": {},
   "outputs": [],
   "source": [
    "sum(i^2 for i in 1:5 if i % 2 == 0)"
   ]
  },
  {
   "cell_type": "markdown",
   "metadata": {},
   "source": [
    "## Mapping `map(f, inputs)`\n",
    "Loops are fast in Julia, no need for vectorizing!"
   ]
  },
  {
   "cell_type": "code",
   "execution_count": null,
   "metadata": {},
   "outputs": [],
   "source": [
    "a = map(i->i^2, 1:5)"
   ]
  },
  {
   "cell_type": "code",
   "execution_count": null,
   "metadata": {},
   "outputs": [],
   "source": [
    "a = map(1:5) do i\n",
    "    if i % 2 == 0\n",
    "        i^2\n",
    "    else\n",
    "        i\n",
    "    end\n",
    "end"
   ]
  },
  {
   "cell_type": "markdown",
   "metadata": {},
   "source": [
    "## [Functions](https://docs.julialang.org/en/v1/manual/functions/)"
   ]
  },
  {
   "cell_type": "markdown",
   "metadata": {},
   "source": [
    "- a function is an object that maps a tuple of argument values to a return value\n",
    "- can alter and be affected by the global state of the program\n",
    "- a block of code streching from `function` to `end`\n",
    "- returns the value of the last expression evaluated"
   ]
  },
  {
   "cell_type": "markdown",
   "metadata": {},
   "source": [
    "### Declare a function"
   ]
  },
  {
   "cell_type": "code",
   "execution_count": 7,
   "metadata": {
    "tags": []
   },
   "outputs": [
    {
     "data": {
      "text/plain": [
       "f"
      ]
     },
     "execution_count": 7,
     "metadata": {},
     "output_type": "execute_result"
    }
   ],
   "source": [
    "\"\"\"\n",
    "    f(x,y)\n",
    "Compute sum of two numbers\n",
    "\n",
    "By convention add documentation right above the definition enclosed in a pair of `\\\"\"\"`. \n",
    "Start with its signature and give a one line description in imperative.\n",
    "#### You can use markdown\n",
    "- `x`: first arg\n",
    "\"\"\"\n",
    "function f(x,y)\n",
    "    x + y\n",
    "end"
   ]
  },
  {
   "cell_type": "code",
   "execution_count": 8,
   "metadata": {
    "tags": []
   },
   "outputs": [
    {
     "name": "stdout",
     "output_type": "stream",
     "text": [
      "search: \u001b[0m\u001b[1mf\u001b[22m \u001b[0m\u001b[1mf\u001b[22md \u001b[0m\u001b[1mf\u001b[22mor \u001b[0m\u001b[1mf\u001b[22mma \u001b[0m\u001b[1mf\u001b[22mld \u001b[0m\u001b[1mf\u001b[22mld1 \u001b[0m\u001b[1mf\u001b[22mill \u001b[0m\u001b[1mf\u001b[22mdio \u001b[0m\u001b[1mf\u001b[22mrexp \u001b[0m\u001b[1mf\u001b[22moldr \u001b[0m\u001b[1mf\u001b[22moldl \u001b[0m\u001b[1mf\u001b[22mlush \u001b[0m\u001b[1mf\u001b[22mloor \u001b[0m\u001b[1mf\u001b[22mloat\n",
      "\n"
     ]
    },
    {
     "data": {
      "text/latex": [
       "\\begin{verbatim}\n",
       "f(x,y)\n",
       "\\end{verbatim}\n",
       "Compute sum of two numbers\n",
       "\n",
       "By convention add documentation right above the definition enclosed in a pair of \\texttt{\"\"\"}.  Start with its signature and give a one line description in imperative.\n",
       "\n",
       "\\paragraph{You can use markdown}\n",
       "\\begin{itemize}\n",
       "\\item \\texttt{x}: first arg\n",
       "\n",
       "\\end{itemize}\n"
      ],
      "text/markdown": [
       "```\n",
       "f(x,y)\n",
       "```\n",
       "\n",
       "Compute sum of two numbers\n",
       "\n",
       "By convention add documentation right above the definition enclosed in a pair of `\"\"\"`.  Start with its signature and give a one line description in imperative.\n",
       "\n",
       "#### You can use markdown\n",
       "\n",
       "  * `x`: first arg\n"
      ],
      "text/plain": [
       "\u001b[36m  f(x,y)\u001b[39m\n",
       "\n",
       "  Compute sum of two numbers\n",
       "\n",
       "  By convention add documentation right above the definition enclosed in a\n",
       "  pair of \u001b[36m\"\"\"\u001b[39m. Start with its signature and give a one line description in\n",
       "  imperative.\n",
       "\n",
       "\u001b[1m  You can use markdown\u001b[22m\n",
       "\u001b[1m  ----------------------\u001b[22m\n",
       "\n",
       "    •  \u001b[36mx\u001b[39m: first arg"
      ]
     },
     "execution_count": 8,
     "metadata": {},
     "output_type": "execute_result"
    }
   ],
   "source": [
    "?f"
   ]
  },
  {
   "cell_type": "code",
   "execution_count": 9,
   "metadata": {
    "tags": []
   },
   "outputs": [
    {
     "data": {
      "text/plain": [
       "f (generic function with 1 method)"
      ]
     },
     "execution_count": 9,
     "metadata": {},
     "output_type": "execute_result"
    }
   ],
   "source": [
    "f(x,y) = x + y"
   ]
  },
  {
   "cell_type": "markdown",
   "metadata": {},
   "source": [
    "### Beginers: almost never declare the types "
   ]
  },
  {
   "cell_type": "code",
   "execution_count": 1,
   "metadata": {
    "tags": []
   },
   "outputs": [
    {
     "data": {
      "text/plain": [
       "g2 (generic function with 1 method)"
      ]
     },
     "metadata": {},
     "output_type": "display_data"
    }
   ],
   "source": [
    "using LinearAlgebra, BenchmarkTools, Printf\n",
    "# BAD\n",
    "function g1(x::Array{Float64, 1})   # not generic!\n",
    "    y = zeros(length(x))   # not generic, hidden float!\n",
    "    z = Diagonal(ones(length(x)))  # not generic, hidden float!\n",
    "    q = ones(length(x))\n",
    "    y .= z * x + q\n",
    "    return y\n",
    "end\n",
    "\n",
    "g1(x)\n",
    "\n",
    "# GOOD\n",
    "function g2(x)  # or `x::AbstractVector`\n",
    "    y = similar(x)\n",
    "    z = I\n",
    "    q = ones(eltype(x), length(x))  # or `fill(one(x), length(x))`\n",
    "    y .= z * x + q\n",
    "    return y\n",
    "end\n"
   ]
  },
  {
   "cell_type": "code",
   "execution_count": 5,
   "metadata": {
    "tags": []
   },
   "outputs": [
    {
     "name": "stdout",
     "output_type": "stream",
     "text": [
      "  4.523 ms (10 allocations: 38.15 MiB)\n"
     ]
    },
    {
     "name": "stdout",
     "output_type": "stream",
     "text": [
      "  3.315 ms (8 allocations: 30.52 MiB)\n"
     ]
    }
   ],
   "source": [
    "x = [5, 6, 2.1]\n",
    "# x = rand(10^6)\n",
    "@btime g1(x); #t0 = time(); g1(x); t1 = time(); @printf(\"g1: %.5f\\n\", t1 - t0)\n",
    "@btime g2(x); "
   ]
  },
  {
   "cell_type": "markdown",
   "metadata": {},
   "source": [
    "### It is necessary to declare type around multiple dispatch"
   ]
  },
  {
   "cell_type": "code",
   "execution_count": null,
   "metadata": {},
   "outputs": [],
   "source": [
    "using Printf\n",
    "function print_type(x::Int64)\n",
    "    @printf(\"You entered an int\")\n",
    "end\n",
    "function print_type(x::Float64)\n",
    "    @printf(\"You entered a float\")\n",
    "end"
   ]
  },
  {
   "cell_type": "markdown",
   "metadata": {},
   "source": [
    "## [Linear Algebra](https://docs.julialang.org/en/v1/stdlib/LinearAlgebra/)"
   ]
  },
  {
   "cell_type": "code",
   "execution_count": null,
   "metadata": {},
   "outputs": [],
   "source": [
    "using LinearAlgebra\n",
    "A = [1 2 3; 4 1 6; 7 8 1]\n",
    "println(det(A))"
   ]
  },
  {
   "cell_type": "markdown",
   "metadata": {
    "tags": []
   },
   "source": [
    "## Resources"
   ]
  },
  {
   "cell_type": "markdown",
   "metadata": {},
   "source": [
    "- [Julia documentation](https://docs.julialang.org/en/v1/manual/getting-started/)\n",
    "- [Performance Tips](https://julia-doc.readthedocs.io/en/latest/manual/performance-tips/)"
   ]
  },
  {
   "cell_type": "markdown",
   "metadata": {},
   "source": [
    "<hr style=\"margin-top: 5px; margin-bottom: 5px\">\n",
    "<a href=\"./02_Julia_Basics2.ipynb\"> <<< 02 - Julia basics II <<< </a>\n",
    "<span style=\"float:right;\"><a href=\"./04_Julia_Plots.ipynb\"> >>> 04 - Julia Plots >>> </a></span>\n",
    "<hr style=\"margin-top: 5px; margin-bottom: 5px\">"
   ]
  },
  {
   "cell_type": "markdown",
   "metadata": {
    "Collapsed": "false"
   },
   "source": [
    "&copy; 2022\n",
    "<a rel=\"license\" href=\"http://creativecommons.org/licenses/by/4.0/\"><img style=\"float: right\" alt=\"Creative Commons Licence\" style=\"border-width:0\" src=\"https://i.creativecommons.org/l/by/4.0/88x31.png\" /></a>"
   ]
  }
 ],
 "metadata": {
  "kernelspec": {
   "display_name": "Julia 1.8.5",
   "language": "julia",
   "name": "julia-1.8"
  },
  "language_info": {
   "file_extension": ".jl",
   "mimetype": "application/julia",
   "name": "julia",
   "version": "1.8.5"
  }
 },
 "nbformat": 4,
 "nbformat_minor": 4
}
