{
 "cells": [
  {
   "cell_type": "markdown",
   "metadata": {},
   "source": [
    "<hr style=\"margin-top: 5px; margin-bottom: 5px\">\n",
    "<div class=\"row\">\n",
    "<div style=\"float:\"><a href=\"./00_index.ipynb\"> <<< 00 - Introduction <<< </a>\n",
    "<span style=\"float:right;\"><a href=\"./02_Julia_Basics2.ipynb\"> >>> 02 - Julia basics II >>> </a></span>\n",
    "</div>\n",
    "<hr style=\"margin-top: 5px; margin-bottom: 5px\">"
   ]
  },
  {
   "cell_type": "markdown",
   "metadata": {},
   "source": [
    "# Julia Basics I"
   ]
  },
  {
   "cell_type": "markdown",
   "metadata": {
    "tags": []
   },
   "source": [
    "## Comments                                  "
   ]
  },
  {
   "cell_type": "code",
   "execution_count": null,
   "metadata": {
    "jp-MarkdownHeadingCollapsed": true,
    "tags": []
   },
   "outputs": [],
   "source": [
    "# Single line comment"
   ]
  },
  {
   "cell_type": "code",
   "execution_count": null,
   "metadata": {},
   "outputs": [],
   "source": [
    "#=  Multi\n",
    "    line \n",
    "    comment\n",
    "=#"
   ]
  },
  {
   "cell_type": "code",
   "execution_count": null,
   "metadata": {},
   "outputs": [],
   "source": [
    "\"\"\"\n",
    "    foo()\n",
    "Docstring of a function\n",
    "\"\"\"\n",
    "function foo()\n",
    "end"
   ]
  },
  {
   "cell_type": "code",
   "execution_count": null,
   "metadata": {},
   "outputs": [],
   "source": [
    "?foo"
   ]
  },
  {
   "cell_type": "markdown",
   "metadata": {},
   "source": [
    "- `?` help\n",
    "- `up` previous command\n",
    "- `down` next command\n",
    "- `3+2;` suppresses the output \n",
    "- `;` activates shell mode\n",
    "- `clearconsole()` clears the console (ctrl+L)\n",
    "- `]` switches to package manager"
   ]
  },
  {
   "cell_type": "markdown",
   "metadata": {
    "tags": []
   },
   "source": [
    "## Data types, [docs.julialang.org/en/v1/manual/types/](https://docs.julialang.org/en/v1/manual/types/)\n",
    "- built-in function `typeof()`"
   ]
  },
  {
   "cell_type": "markdown",
   "metadata": {},
   "source": [
    "<div>\n",
    "<center><img src=\"./img/JuliaTypes.png\" width=\"800\"/></center>\n",
    "</div>"
   ]
  },
  {
   "cell_type": "markdown",
   "metadata": {
    "tags": []
   },
   "source": [
    "### Numeric types: Int, Float"
   ]
  },
  {
   "cell_type": "code",
   "execution_count": null,
   "metadata": {
    "jp-MarkdownHeadingCollapsed": true,
    "tags": []
   },
   "outputs": [],
   "source": [
    "println(\"1 is \", typeof(3)) # 1 is Int64\n",
    "println(\"1.0 is \", typeof(3.2)) # 1.0 is Float64"
   ]
  },
  {
   "cell_type": "markdown",
   "metadata": {},
   "source": [
    "### Advanced data types:"
   ]
  },
  {
   "cell_type": "code",
   "execution_count": null,
   "metadata": {
    "jp-MarkdownHeadingCollapsed": true,
    "tags": []
   },
   "outputs": [],
   "source": [
    "println(\"1 + 1im is \", typeof(1 + 1im)) # 1 + 1im is Complex{Int64}\n",
    "println(\"1//2 is \", typeof(1//2)) # 1//2 is Rational{Int64}\n",
    "println(\"[1,2,3] is \", typeof([1,2,3])) # [1,2,3] is Array{Int64,1}}"
   ]
  },
  {
   "cell_type": "markdown",
   "metadata": {},
   "source": [
    "Types are inferred from content"
   ]
  },
  {
   "cell_type": "code",
   "execution_count": null,
   "metadata": {
    "jp-MarkdownHeadingCollapsed": true,
    "tags": []
   },
   "outputs": [],
   "source": [
    "println(\"1. + 1im is \", typeof(1. + 1im)) # 1 + 1im is Complex{Int64}\n",
    "println(\"[1.,2,3] is \", typeof([1.,2,3])) # [1,2,3] is Array{Int64,1}}"
   ]
  },
  {
   "cell_type": "code",
   "execution_count": null,
   "metadata": {},
   "outputs": [],
   "source": [
    "typeof(1//2.) # 1//2 is Rational{Int64}"
   ]
  },
  {
   "cell_type": "markdown",
   "metadata": {},
   "source": [
    "### Whatch out for type limits"
   ]
  },
  {
   "cell_type": "code",
   "execution_count": null,
   "metadata": {},
   "outputs": [],
   "source": [
    "println(10^19) # overflow\n",
    "println(big(10)^19)"
   ]
  },
  {
   "cell_type": "markdown",
   "metadata": {},
   "source": [
    "### Specials"
   ]
  },
  {
   "cell_type": "code",
   "execution_count": null,
   "metadata": {},
   "outputs": [],
   "source": [
    "println(0/0, \"   \", 1/0, \"   \", -1/0)"
   ]
  },
  {
   "cell_type": "markdown",
   "metadata": {},
   "source": [
    "- The value `nothing`, which is just a singleton object of type `Nothing`\n",
    "    * there is nothing special about it except for this convention, and that the REPL does not print anything for it"
   ]
  },
  {
   "cell_type": "code",
   "execution_count": null,
   "metadata": {},
   "outputs": [],
   "source": [
    "nothing"
   ]
  },
  {
   "cell_type": "markdown",
   "metadata": {},
   "source": [
    "No output:"
   ]
  },
  {
   "cell_type": "code",
   "execution_count": null,
   "metadata": {},
   "outputs": [],
   "source": [
    "1 + 2; "
   ]
  },
  {
   "cell_type": "markdown",
   "metadata": {},
   "source": [
    "- `missing` object, which is the singleton instance of the type `Missing`\n",
    "    * propagation of missing values\n",
    "    * equality and comparison operators"
   ]
  },
  {
   "cell_type": "code",
   "execution_count": null,
   "metadata": {},
   "outputs": [],
   "source": [
    "1 + missing"
   ]
  },
  {
   "cell_type": "markdown",
   "metadata": {},
   "source": [
    "### Boolian types"
   ]
  },
  {
   "cell_type": "code",
   "execution_count": null,
   "metadata": {},
   "outputs": [],
   "source": [
    "println(1==1, \" and \", 1 > 2, \" are \", typeof(1==1))"
   ]
  },
  {
   "cell_type": "markdown",
   "metadata": {
    "tags": []
   },
   "source": [
    "### String, Char         "
   ]
  },
  {
   "cell_type": "code",
   "execution_count": null,
   "metadata": {},
   "outputs": [],
   "source": [
    "println(\"\\\"Text\\\" is \", typeof(\"Text\")) # Text is ASCIIString\n",
    "println(\"'a' is \", typeof('a')) # a is Char"
   ]
  },
  {
   "cell_type": "markdown",
   "metadata": {
    "tags": []
   },
   "source": [
    "- strings are enclosed in double quotes: \"String\" \n",
    "     * characters: 'a'\n",
    "- strings can be indexed (array of characters):"
   ]
  },
  {
   "cell_type": "code",
   "execution_count": null,
   "metadata": {},
   "outputs": [],
   "source": [
    "println(\"First char is\"[1]) # => 'F'"
   ]
  },
  {
   "cell_type": "code",
   "execution_count": null,
   "metadata": {},
   "outputs": [],
   "source": [
    "s = \"First char of this string\"; \n",
    "println(\"The first char of \\\"$(s)\\\" is $(s[1])\") # string interpolation"
   ]
  },
  {
   "cell_type": "markdown",
   "metadata": {},
   "source": [
    "- Julia indexes from 1\n",
    "- For printing and interpolating strings there are powerful macros \n",
    "    * you need to load: `using Printf` \n",
    "    * makes macros like @printf, @sprintf available. Macros are substituted with code chunks when parsing "
   ]
  },
  {
   "cell_type": "code",
   "execution_count": null,
   "metadata": {},
   "outputs": [],
   "source": [
    "using Printf"
   ]
  },
  {
   "cell_type": "code",
   "execution_count": null,
   "metadata": {},
   "outputs": [],
   "source": [
    "@printf(\"You can format like C: %07.2f\", 3.1415)"
   ]
  },
  {
   "cell_type": "markdown",
   "metadata": {},
   "source": [
    "#### Be careful"
   ]
  },
  {
   "cell_type": "code",
   "execution_count": null,
   "metadata": {},
   "outputs": [],
   "source": [
    "@printf \"%d is less than %f \\n\" 1.6 1.2 #  2 is less than 1.200000 "
   ]
  },
  {
   "cell_type": "markdown",
   "metadata": {},
   "source": [
    "### String comparison lexicographically:"
   ]
  },
  {
   "cell_type": "code",
   "execution_count": null,
   "metadata": {},
   "outputs": [],
   "source": [
    "println(\"good\" > \"bad\") # true\n",
    "println(\"good\" == \"bad\") # false"
   ]
  },
  {
   "cell_type": "markdown",
   "metadata": {},
   "source": [
    "### User defined data types:\n",
    "Colorful mathematics:"
   ]
  },
  {
   "cell_type": "code",
   "execution_count": null,
   "metadata": {},
   "outputs": [],
   "source": [
    "struct ColorInt\n",
    "  colored_int::Int64\n",
    "  color::String \n",
    "end\n",
    "\n",
    "x = ColorInt(1,\"blue\") \n",
    "typeof(x) # ColorInt"
   ]
  },
  {
   "cell_type": "markdown",
   "metadata": {
    "jp-MarkdownHeadingCollapsed": true,
    "tags": []
   },
   "source": [
    "- Check the type by typeof()\n",
    "- println(\"something\") prints and goes to the next line\n",
    "    * print(\"something\") stays on the same line "
   ]
  },
  {
   "cell_type": "markdown",
   "metadata": {},
   "source": [
    "### Operators"
   ]
  },
  {
   "cell_type": "code",
   "execution_count": null,
   "metadata": {},
   "outputs": [],
   "source": [
    "println(-(1+1)-1*1/1) # println returns float"
   ]
  },
  {
   "cell_type": "code",
   "execution_count": null,
   "metadata": {},
   "outputs": [],
   "source": [
    "println(div(7,2)) # truncated"
   ]
  },
  {
   "cell_type": "markdown",
   "metadata": {},
   "source": [
    "### More operators"
   ]
  },
  {
   "cell_type": "code",
   "execution_count": null,
   "metadata": {},
   "outputs": [],
   "source": [
    "println(2\\4) # same as /\n",
    "println(4/2) # \n",
    "println(2^2) # power\n",
    "println(5%2) # remainder"
   ]
  },
  {
   "cell_type": "code",
   "execution_count": null,
   "metadata": {},
   "outputs": [],
   "source": [
    "println(1 < 2) \n",
    "println(1 > 2) \n",
    "println(2 >= 1)\n",
    "println(2 <= 1)\n",
    "println(1 < 2 <= (1+1)) # chained comparisons"
   ]
  },
  {
   "cell_type": "code",
   "execution_count": null,
   "metadata": {},
   "outputs": [],
   "source": [
    "println(1 == 1.) # value\n",
    "println(1 === 1.) # value & type"
   ]
  },
  {
   "cell_type": "code",
   "execution_count": null,
   "metadata": {},
   "outputs": [],
   "source": [
    "println(1.000000000000001 == 1)\n",
    "println(1.0000000000000001 == 1)\n",
    "println(eps(Float64)) # distance between 1.0 and the next larger representable floating-point value"
   ]
  },
  {
   "cell_type": "markdown",
   "metadata": {},
   "source": [
    "### Boolean operators"
   ]
  },
  {
   "cell_type": "code",
   "execution_count": null,
   "metadata": {},
   "outputs": [],
   "source": [
    "println(!true)\n",
    "println(true && true)\n",
    "println(true || false)"
   ]
  },
  {
   "cell_type": "markdown",
   "metadata": {},
   "source": [
    "### Bitwise operators"
   ]
  },
  {
   "cell_type": "code",
   "execution_count": null,
   "metadata": {},
   "outputs": [],
   "source": [
    "println(~1)      # -2, bitwise not\n",
    "println(bitstring(Int8(1))) # 00000001\n",
    "println(bitstring(Int8(-2)))# 11111110\n",
    "\n",
    "println(5 & 3)   # 1, bitwise and\n",
    "println(5 | 3)   # 7, bitwise or"
   ]
  },
  {
   "cell_type": "markdown",
   "metadata": {},
   "source": [
    "## Resources"
   ]
  },
  {
   "cell_type": "markdown",
   "metadata": {},
   "source": [
    "- [Julia documentation](https://docs.julialang.org/en/v1/manual/getting-started/)\n",
    "    * [Types](https://docs.julialang.org/en/v1/manual/types/)"
   ]
  },
  {
   "cell_type": "markdown",
   "metadata": {},
   "source": [
    "<hr style=\"margin-top: 5px; margin-bottom: 5px\">\n",
    "<a href=\"./00_index.ipynb\"> <<< 00 - Introduction <<< </a>\n",
    "<span style=\"float:right;\"><a href=\"./02_Julia_Basics2.ipynb\"> >>> 02 - Julia basics II >>> </a></span>\n",
    "<hr style=\"margin-top: 5px; margin-bottom: 5px\">"
   ]
  },
  {
   "cell_type": "markdown",
   "metadata": {
    "Collapsed": "false"
   },
   "source": [
    "&copy; 2022\n",
    "<a rel=\"license\" href=\"http://creativecommons.org/licenses/by/4.0/\"><img style=\"float: right\" alt=\"Creative Commons Licence\" style=\"border-width:0\" src=\"https://i.creativecommons.org/l/by/4.0/88x31.png\" /></a>"
   ]
  }
 ],
 "metadata": {
  "kernelspec": {
   "display_name": "Julia 1.7.2",
   "language": "julia",
   "name": "julia-1.7"
  },
  "language_info": {
   "file_extension": ".jl",
   "mimetype": "application/julia",
   "name": "julia",
   "version": "1.7.2"
  }
 },
 "nbformat": 4,
 "nbformat_minor": 4
}
