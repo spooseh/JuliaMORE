{
 "cells": [
  {
   "cell_type": "markdown",
   "metadata": {},
   "source": [
    "<hr style=\"margin-top: 5px; margin-bottom: 5px\">\n",
    "<a href=\"./04_Julia_Plots.ipynb\"> <<< 04 - Julia Plots <<< </a>\n",
    "<hr style=\"margin-top: 5px; margin-bottom: 5px\">"
   ]
  },
  {
   "cell_type": "markdown",
   "metadata": {},
   "source": [
    "# Julia OLS"
   ]
  },
  {
   "attachments": {},
   "cell_type": "markdown",
   "metadata": {
    "tags": []
   },
   "source": [
    "From stdlib:\n",
    "- [Random](https://docs.julialang.org/en/v1/stdlib/Random/) for generating data\n",
    "\n",
    "Need to be installed first:\n",
    "- Plots for a scatter plot\n",
    "- [GLM](https://juliastats.org/GLM.jl/stable/) for OLS fitting depends on \n",
    "    * [StatsModels](https://juliastats.org/StatsModels.jl/stable/): `@formula` to set the R-like \"formula\"\n",
    "    * [StatsAPI](https://github.com/JuliaStats/StatsAPI.jl): `coeftable()` to extract results\n",
    "        - CoefTable to DataFrame: `using DataFrames; DataFrame(coeftable(model))`"
   ]
  },
  {
   "cell_type": "code",
   "execution_count": 3,
   "metadata": {
    "tags": []
   },
   "outputs": [
    {
     "data": {
      "text/plain": [
       "3-element Vector{Float64}:\n",
       " 2.9876521059564247\n",
       " 3.085666234168655\n",
       " 1.9753324634079288"
      ]
     },
     "metadata": {},
     "output_type": "display_data"
    }
   ],
   "source": [
    "using Random\n",
    "Random.seed!(1984)\n",
    "n = 100\n",
    "x = 2.5 * randn(n) .+ 1.5   # Array of n values with mean = 1.5, stddev = 2.5\n",
    "res = 0.5 * randn(n)        # Generate n residual terms\n",
    "y = 2 .+ 0.3 * x .+ res;    # Actual values of Y\n",
    "first(y, 3)"
   ]
  },
  {
   "cell_type": "code",
   "execution_count": 2,
   "metadata": {
    "tags": []
   },
   "outputs": [
    {
     "data": {
      "image/svg+xml": "<?xml version=\"1.0\" encoding=\"utf-8\"?>\n<svg xmlns=\"http://www.w3.org/2000/svg\" xmlns:xlink=\"http://www.w3.org/1999/xlink\" width=\"600\" height=\"400\" viewBox=\"0 0 2400 1600\">\n<defs>\n  <clipPath id=\"clip970\">\n    <rect x=\"0\" y=\"0\" width=\"2400\" height=\"1600\"/>\n  </clipPath>\n</defs>\n<path clip-path=\"url(#clip970)\" d=\"M0 1600 L2400 1600 L2400 0 L0 0  Z\" fill=\"#ffffff\" fill-rule=\"evenodd\" fill-opacity=\"1\"/>\n<defs>\n  <clipPath id=\"clip971\">\n    <rect x=\"480\" y=\"0\" width=\"1681\" height=\"1600\"/>\n  </clipPath>\n</defs>\n<path clip-path=\"url(#clip970)\" d=\"M112.177 1486.45 L2352.76 1486.45 L2352.76 47.2441 L112.177 47.2441  Z\" fill=\"#ffffff\" fill-rule=\"evenodd\" fill-opacity=\"1\"/>\n<defs>\n  <clipPath id=\"clip972\">\n    <rect x=\"112\" y=\"47\" width=\"2242\" height=\"1440\"/>\n  </clipPath>\n</defs>\n<polyline clip-path=\"url(#clip972)\" style=\"stroke:#000000; stroke-linecap:round; stroke-linejoin:round; stroke-width:2; stroke-opacity:0.1; fill:none\" points=\"443.933,1486.45 443.933,47.2441 \"/>\n<polyline clip-path=\"url(#clip972)\" style=\"stroke:#000000; stroke-linecap:round; stroke-linejoin:round; stroke-width:2; stroke-opacity:0.1; fill:none\" points=\"853.844,1486.45 853.844,47.2441 \"/>\n<polyline clip-path=\"url(#clip972)\" style=\"stroke:#000000; stroke-linecap:round; stroke-linejoin:round; stroke-width:2; stroke-opacity:0.1; fill:none\" points=\"1263.75,1486.45 1263.75,47.2441 \"/>\n<polyline clip-path=\"url(#clip972)\" style=\"stroke:#000000; stroke-linecap:round; stroke-linejoin:round; stroke-width:2; stroke-opacity:0.1; fill:none\" points=\"1673.66,1486.45 1673.66,47.2441 \"/>\n<polyline clip-path=\"url(#clip972)\" style=\"stroke:#000000; stroke-linecap:round; stroke-linejoin:round; stroke-width:2; stroke-opacity:0.1; fill:none\" points=\"2083.58,1486.45 2083.58,47.2441 \"/>\n<polyline clip-path=\"url(#clip970)\" style=\"stroke:#000000; stroke-linecap:round; stroke-linejoin:round; stroke-width:4; stroke-opacity:1; fill:none\" points=\"112.177,1486.45 2352.76,1486.45 \"/>\n<polyline clip-path=\"url(#clip970)\" style=\"stroke:#000000; stroke-linecap:round; stroke-linejoin:round; stroke-width:4; stroke-opacity:1; fill:none\" points=\"443.933,1486.45 443.933,1467.55 \"/>\n<polyline clip-path=\"url(#clip970)\" style=\"stroke:#000000; stroke-linecap:round; stroke-linejoin:round; stroke-width:4; stroke-opacity:1; fill:none\" points=\"853.844,1486.45 853.844,1467.55 \"/>\n<polyline clip-path=\"url(#clip970)\" style=\"stroke:#000000; stroke-linecap:round; stroke-linejoin:round; stroke-width:4; stroke-opacity:1; fill:none\" points=\"1263.75,1486.45 1263.75,1467.55 \"/>\n<polyline clip-path=\"url(#clip970)\" style=\"stroke:#000000; stroke-linecap:round; stroke-linejoin:round; stroke-width:4; stroke-opacity:1; fill:none\" points=\"1673.66,1486.45 1673.66,1467.55 \"/>\n<polyline clip-path=\"url(#clip970)\" style=\"stroke:#000000; stroke-linecap:round; stroke-linejoin:round; stroke-width:4; stroke-opacity:1; fill:none\" points=\"2083.58,1486.45 2083.58,1467.55 \"/>\n<path clip-path=\"url(#clip970)\" d=\"M390.461 1532.02 L420.137 1532.02 L420.137 1535.95 L390.461 1535.95 L390.461 1532.02 Z\" fill=\"#000000\" fill-rule=\"evenodd\" fill-opacity=\"1\" /><path clip-path=\"url(#clip970)\" d=\"M430.276 1514.29 L448.632 1514.29 L448.632 1518.22 L434.558 1518.22 L434.558 1526.7 Q435.577 1526.35 436.595 1526.19 Q437.614 1526 438.633 1526 Q444.42 1526 447.799 1529.17 Q451.179 1532.34 451.179 1537.76 Q451.179 1543.34 447.707 1546.44 Q444.234 1549.52 437.915 1549.52 Q435.739 1549.52 433.471 1549.15 Q431.225 1548.78 428.818 1548.04 L428.818 1543.34 Q430.901 1544.47 433.123 1545.03 Q435.345 1545.58 437.822 1545.58 Q441.827 1545.58 444.165 1543.48 Q446.503 1541.37 446.503 1537.76 Q446.503 1534.15 444.165 1532.04 Q441.827 1529.94 437.822 1529.94 Q435.947 1529.94 434.072 1530.35 Q432.221 1530.77 430.276 1531.65 L430.276 1514.29 Z\" fill=\"#000000\" fill-rule=\"evenodd\" fill-opacity=\"1\" /><path clip-path=\"url(#clip970)\" d=\"M460.392 1542.97 L465.276 1542.97 L465.276 1548.85 L460.392 1548.85 L460.392 1542.97 Z\" fill=\"#000000\" fill-rule=\"evenodd\" fill-opacity=\"1\" /><path clip-path=\"url(#clip970)\" d=\"M485.461 1517.37 Q481.85 1517.37 480.021 1520.93 Q478.216 1524.47 478.216 1531.6 Q478.216 1538.71 480.021 1542.27 Q481.85 1545.82 485.461 1545.82 Q489.095 1545.82 490.901 1542.27 Q492.729 1538.71 492.729 1531.6 Q492.729 1524.47 490.901 1520.93 Q489.095 1517.37 485.461 1517.37 M485.461 1513.66 Q491.271 1513.66 494.327 1518.27 Q497.405 1522.85 497.405 1531.6 Q497.405 1540.33 494.327 1544.94 Q491.271 1549.52 485.461 1549.52 Q479.651 1549.52 476.572 1544.94 Q473.517 1540.33 473.517 1531.6 Q473.517 1522.85 476.572 1518.27 Q479.651 1513.66 485.461 1513.66 Z\" fill=\"#000000\" fill-rule=\"evenodd\" fill-opacity=\"1\" /><path clip-path=\"url(#clip970)\" d=\"M800.87 1532.02 L830.545 1532.02 L830.545 1535.95 L800.87 1535.95 L800.87 1532.02 Z\" fill=\"#000000\" fill-rule=\"evenodd\" fill-opacity=\"1\" /><path clip-path=\"url(#clip970)\" d=\"M844.666 1544.91 L860.985 1544.91 L860.985 1548.85 L839.041 1548.85 L839.041 1544.91 Q841.703 1542.16 846.286 1537.53 Q850.893 1532.88 852.073 1531.53 Q854.318 1529.01 855.198 1527.27 Q856.101 1525.51 856.101 1523.82 Q856.101 1521.07 854.156 1519.33 Q852.235 1517.6 849.133 1517.6 Q846.934 1517.6 844.481 1518.36 Q842.05 1519.13 839.272 1520.68 L839.272 1515.95 Q842.096 1514.82 844.55 1514.24 Q847.004 1513.66 849.041 1513.66 Q854.411 1513.66 857.605 1516.35 Q860.8 1519.03 860.8 1523.52 Q860.8 1525.65 859.99 1527.57 Q859.203 1529.47 857.096 1532.07 Q856.517 1532.74 853.416 1535.95 Q850.314 1539.15 844.666 1544.91 Z\" fill=\"#000000\" fill-rule=\"evenodd\" fill-opacity=\"1\" /><path clip-path=\"url(#clip970)\" d=\"M870.8 1542.97 L875.684 1542.97 L875.684 1548.85 L870.8 1548.85 L870.8 1542.97 Z\" fill=\"#000000\" fill-rule=\"evenodd\" fill-opacity=\"1\" /><path clip-path=\"url(#clip970)\" d=\"M885.915 1514.29 L904.272 1514.29 L904.272 1518.22 L890.198 1518.22 L890.198 1526.7 Q891.216 1526.35 892.235 1526.19 Q893.253 1526 894.272 1526 Q900.059 1526 903.439 1529.17 Q906.818 1532.34 906.818 1537.76 Q906.818 1543.34 903.346 1546.44 Q899.874 1549.52 893.554 1549.52 Q891.378 1549.52 889.11 1549.15 Q886.865 1548.78 884.457 1548.04 L884.457 1543.34 Q886.54 1544.47 888.763 1545.03 Q890.985 1545.58 893.462 1545.58 Q897.466 1545.58 899.804 1543.48 Q902.142 1541.37 902.142 1537.76 Q902.142 1534.15 899.804 1532.04 Q897.466 1529.94 893.462 1529.94 Q891.587 1529.94 889.712 1530.35 Q887.86 1530.77 885.915 1531.65 L885.915 1514.29 Z\" fill=\"#000000\" fill-rule=\"evenodd\" fill-opacity=\"1\" /><path clip-path=\"url(#clip970)\" d=\"M1241.14 1517.37 Q1237.53 1517.37 1235.7 1520.93 Q1233.89 1524.47 1233.89 1531.6 Q1233.89 1538.71 1235.7 1542.27 Q1237.53 1545.82 1241.14 1545.82 Q1244.77 1545.82 1246.58 1542.27 Q1248.41 1538.71 1248.41 1531.6 Q1248.41 1524.47 1246.58 1520.93 Q1244.77 1517.37 1241.14 1517.37 M1241.14 1513.66 Q1246.95 1513.66 1250 1518.27 Q1253.08 1522.85 1253.08 1531.6 Q1253.08 1540.33 1250 1544.94 Q1246.95 1549.52 1241.14 1549.52 Q1235.33 1549.52 1232.25 1544.94 Q1229.19 1540.33 1229.19 1531.6 Q1229.19 1522.85 1232.25 1518.27 Q1235.33 1513.66 1241.14 1513.66 Z\" fill=\"#000000\" fill-rule=\"evenodd\" fill-opacity=\"1\" /><path clip-path=\"url(#clip970)\" d=\"M1261.3 1542.97 L1266.18 1542.97 L1266.18 1548.85 L1261.3 1548.85 L1261.3 1542.97 Z\" fill=\"#000000\" fill-rule=\"evenodd\" fill-opacity=\"1\" /><path clip-path=\"url(#clip970)\" d=\"M1286.37 1517.37 Q1282.76 1517.37 1280.93 1520.93 Q1279.12 1524.47 1279.12 1531.6 Q1279.12 1538.71 1280.93 1542.27 Q1282.76 1545.82 1286.37 1545.82 Q1290 1545.82 1291.81 1542.27 Q1293.64 1538.71 1293.64 1531.6 Q1293.64 1524.47 1291.81 1520.93 Q1290 1517.37 1286.37 1517.37 M1286.37 1513.66 Q1292.18 1513.66 1295.24 1518.27 Q1298.31 1522.85 1298.31 1531.6 Q1298.31 1540.33 1295.24 1544.94 Q1292.18 1549.52 1286.37 1549.52 Q1280.56 1549.52 1277.48 1544.94 Q1274.43 1540.33 1274.43 1531.6 Q1274.43 1522.85 1277.48 1518.27 Q1280.56 1513.66 1286.37 1513.66 Z\" fill=\"#000000\" fill-rule=\"evenodd\" fill-opacity=\"1\" /><path clip-path=\"url(#clip970)\" d=\"M1645.4 1544.91 L1661.72 1544.91 L1661.72 1548.85 L1639.78 1548.85 L1639.78 1544.91 Q1642.44 1542.16 1647.02 1537.53 Q1651.63 1532.88 1652.81 1531.53 Q1655.05 1529.01 1655.93 1527.27 Q1656.84 1525.51 1656.84 1523.82 Q1656.84 1521.07 1654.89 1519.33 Q1652.97 1517.6 1649.87 1517.6 Q1647.67 1517.6 1645.22 1518.36 Q1642.79 1519.13 1640.01 1520.68 L1640.01 1515.95 Q1642.83 1514.82 1645.29 1514.24 Q1647.74 1513.66 1649.78 1513.66 Q1655.15 1513.66 1658.34 1516.35 Q1661.54 1519.03 1661.54 1523.52 Q1661.54 1525.65 1660.73 1527.57 Q1659.94 1529.47 1657.83 1532.07 Q1657.25 1532.74 1654.15 1535.95 Q1651.05 1539.15 1645.4 1544.91 Z\" fill=\"#000000\" fill-rule=\"evenodd\" fill-opacity=\"1\" /><path clip-path=\"url(#clip970)\" d=\"M1671.54 1542.97 L1676.42 1542.97 L1676.42 1548.85 L1671.54 1548.85 L1671.54 1542.97 Z\" fill=\"#000000\" fill-rule=\"evenodd\" fill-opacity=\"1\" /><path clip-path=\"url(#clip970)\" d=\"M1686.65 1514.29 L1705.01 1514.29 L1705.01 1518.22 L1690.93 1518.22 L1690.93 1526.7 Q1691.95 1526.35 1692.97 1526.19 Q1693.99 1526 1695.01 1526 Q1700.79 1526 1704.17 1529.17 Q1707.55 1532.34 1707.55 1537.76 Q1707.55 1543.34 1704.08 1546.44 Q1700.61 1549.52 1694.29 1549.52 Q1692.11 1549.52 1689.85 1549.15 Q1687.6 1548.78 1685.19 1548.04 L1685.19 1543.34 Q1687.28 1544.47 1689.5 1545.03 Q1691.72 1545.58 1694.2 1545.58 Q1698.2 1545.58 1700.54 1543.48 Q1702.88 1541.37 1702.88 1537.76 Q1702.88 1534.15 1700.54 1532.04 Q1698.2 1529.94 1694.2 1529.94 Q1692.32 1529.94 1690.45 1530.35 Q1688.6 1530.77 1686.65 1531.65 L1686.65 1514.29 Z\" fill=\"#000000\" fill-rule=\"evenodd\" fill-opacity=\"1\" /><path clip-path=\"url(#clip970)\" d=\"M2050.74 1514.29 L2069.1 1514.29 L2069.1 1518.22 L2055.02 1518.22 L2055.02 1526.7 Q2056.04 1526.35 2057.06 1526.19 Q2058.08 1526 2059.1 1526 Q2064.88 1526 2068.26 1529.17 Q2071.64 1532.34 2071.64 1537.76 Q2071.64 1543.34 2068.17 1546.44 Q2064.7 1549.52 2058.38 1549.52 Q2056.2 1549.52 2053.93 1549.15 Q2051.69 1548.78 2049.28 1548.04 L2049.28 1543.34 Q2051.36 1544.47 2053.59 1545.03 Q2055.81 1545.58 2058.29 1545.58 Q2062.29 1545.58 2064.63 1543.48 Q2066.97 1541.37 2066.97 1537.76 Q2066.97 1534.15 2064.63 1532.04 Q2062.29 1529.94 2058.29 1529.94 Q2056.41 1529.94 2054.54 1530.35 Q2052.68 1530.77 2050.74 1531.65 L2050.74 1514.29 Z\" fill=\"#000000\" fill-rule=\"evenodd\" fill-opacity=\"1\" /><path clip-path=\"url(#clip970)\" d=\"M2080.86 1542.97 L2085.74 1542.97 L2085.74 1548.85 L2080.86 1548.85 L2080.86 1542.97 Z\" fill=\"#000000\" fill-rule=\"evenodd\" fill-opacity=\"1\" /><path clip-path=\"url(#clip970)\" d=\"M2105.92 1517.37 Q2102.31 1517.37 2100.48 1520.93 Q2098.68 1524.47 2098.68 1531.6 Q2098.68 1538.71 2100.48 1542.27 Q2102.31 1545.82 2105.92 1545.82 Q2109.56 1545.82 2111.36 1542.27 Q2113.19 1538.71 2113.19 1531.6 Q2113.19 1524.47 2111.36 1520.93 Q2109.56 1517.37 2105.92 1517.37 M2105.92 1513.66 Q2111.73 1513.66 2114.79 1518.27 Q2117.87 1522.85 2117.87 1531.6 Q2117.87 1540.33 2114.79 1544.94 Q2111.73 1549.52 2105.92 1549.52 Q2100.11 1549.52 2097.04 1544.94 Q2093.98 1540.33 2093.98 1531.6 Q2093.98 1522.85 2097.04 1518.27 Q2100.11 1513.66 2105.92 1513.66 Z\" fill=\"#000000\" fill-rule=\"evenodd\" fill-opacity=\"1\" /><polyline clip-path=\"url(#clip972)\" style=\"stroke:#000000; stroke-linecap:round; stroke-linejoin:round; stroke-width:2; stroke-opacity:0.1; fill:none\" points=\"112.177,1243.91 2352.76,1243.91 \"/>\n<polyline clip-path=\"url(#clip972)\" style=\"stroke:#000000; stroke-linecap:round; stroke-linejoin:round; stroke-width:2; stroke-opacity:0.1; fill:none\" points=\"112.177,965.163 2352.76,965.163 \"/>\n<polyline clip-path=\"url(#clip972)\" style=\"stroke:#000000; stroke-linecap:round; stroke-linejoin:round; stroke-width:2; stroke-opacity:0.1; fill:none\" points=\"112.177,686.412 2352.76,686.412 \"/>\n<polyline clip-path=\"url(#clip972)\" style=\"stroke:#000000; stroke-linecap:round; stroke-linejoin:round; stroke-width:2; stroke-opacity:0.1; fill:none\" points=\"112.177,407.661 2352.76,407.661 \"/>\n<polyline clip-path=\"url(#clip972)\" style=\"stroke:#000000; stroke-linecap:round; stroke-linejoin:round; stroke-width:2; stroke-opacity:0.1; fill:none\" points=\"112.177,128.91 2352.76,128.91 \"/>\n<polyline clip-path=\"url(#clip970)\" style=\"stroke:#000000; stroke-linecap:round; stroke-linejoin:round; stroke-width:4; stroke-opacity:1; fill:none\" points=\"112.177,1486.45 112.177,47.2441 \"/>\n<polyline clip-path=\"url(#clip970)\" style=\"stroke:#000000; stroke-linecap:round; stroke-linejoin:round; stroke-width:4; stroke-opacity:1; fill:none\" points=\"112.177,1243.91 131.075,1243.91 \"/>\n<polyline clip-path=\"url(#clip970)\" style=\"stroke:#000000; stroke-linecap:round; stroke-linejoin:round; stroke-width:4; stroke-opacity:1; fill:none\" points=\"112.177,965.163 131.075,965.163 \"/>\n<polyline clip-path=\"url(#clip970)\" style=\"stroke:#000000; stroke-linecap:round; stroke-linejoin:round; stroke-width:4; stroke-opacity:1; fill:none\" points=\"112.177,686.412 131.075,686.412 \"/>\n<polyline clip-path=\"url(#clip970)\" style=\"stroke:#000000; stroke-linecap:round; stroke-linejoin:round; stroke-width:4; stroke-opacity:1; fill:none\" points=\"112.177,407.661 131.075,407.661 \"/>\n<polyline clip-path=\"url(#clip970)\" style=\"stroke:#000000; stroke-linecap:round; stroke-linejoin:round; stroke-width:4; stroke-opacity:1; fill:none\" points=\"112.177,128.91 131.075,128.91 \"/>\n<path clip-path=\"url(#clip970)\" d=\"M64.2328 1229.71 Q60.6217 1229.71 58.793 1233.28 Q56.9875 1236.82 56.9875 1243.95 Q56.9875 1251.06 58.793 1254.62 Q60.6217 1258.16 64.2328 1258.16 Q67.867 1258.16 69.6726 1254.62 Q71.5013 1251.06 71.5013 1243.95 Q71.5013 1236.82 69.6726 1233.28 Q67.867 1229.71 64.2328 1229.71 M64.2328 1226.01 Q70.0429 1226.01 73.0985 1230.62 Q76.1772 1235.2 76.1772 1243.95 Q76.1772 1252.68 73.0985 1257.28 Q70.0429 1261.87 64.2328 1261.87 Q58.4226 1261.87 55.344 1257.28 Q52.2884 1252.68 52.2884 1243.95 Q52.2884 1235.2 55.344 1230.62 Q58.4226 1226.01 64.2328 1226.01 Z\" fill=\"#000000\" fill-rule=\"evenodd\" fill-opacity=\"1\" /><path clip-path=\"url(#clip970)\" d=\"M56.2699 978.508 L63.9087 978.508 L63.9087 952.142 L55.5986 953.809 L55.5986 949.55 L63.8624 947.883 L68.5383 947.883 L68.5383 978.508 L76.1772 978.508 L76.1772 982.443 L56.2699 982.443 L56.2699 978.508 Z\" fill=\"#000000\" fill-rule=\"evenodd\" fill-opacity=\"1\" /><path clip-path=\"url(#clip970)\" d=\"M59.8578 699.757 L76.1772 699.757 L76.1772 703.692 L54.2328 703.692 L54.2328 699.757 Q56.8949 697.002 61.4782 692.373 Q66.0846 687.72 67.2652 686.377 Q69.5105 683.854 70.3902 682.118 Q71.2929 680.359 71.2929 678.669 Q71.2929 675.914 69.3485 674.178 Q67.4272 672.442 64.3254 672.442 Q62.1263 672.442 59.6726 673.206 Q57.2421 673.97 54.4643 675.521 L54.4643 670.799 Q57.2884 669.664 59.7421 669.086 Q62.1958 668.507 64.2328 668.507 Q69.6031 668.507 72.7976 671.192 Q75.992 673.877 75.992 678.368 Q75.992 680.498 75.1818 682.419 Q74.3948 684.317 72.2883 686.91 Q71.7096 687.581 68.6078 690.799 Q65.5059 693.993 59.8578 699.757 Z\" fill=\"#000000\" fill-rule=\"evenodd\" fill-opacity=\"1\" /><path clip-path=\"url(#clip970)\" d=\"M69.0476 406.307 Q72.404 407.024 74.279 409.293 Q76.1772 411.561 76.1772 414.895 Q76.1772 420.01 72.6587 422.811 Q69.1402 425.612 62.6587 425.612 Q60.4828 425.612 58.168 425.172 Q55.8764 424.756 53.4227 423.899 L53.4227 419.385 Q55.3671 420.52 57.6819 421.098 Q59.9967 421.677 62.5198 421.677 Q66.918 421.677 69.2096 419.941 Q71.5244 418.205 71.5244 414.895 Q71.5244 411.839 69.3717 410.126 Q67.242 408.39 63.4226 408.39 L59.3949 408.39 L59.3949 404.548 L63.6078 404.548 Q67.0569 404.548 68.8855 403.182 Q70.7142 401.793 70.7142 399.2 Q70.7142 396.538 68.8161 395.126 Q66.9411 393.691 63.4226 393.691 Q61.5013 393.691 59.3023 394.108 Q57.1032 394.524 54.4643 395.404 L54.4643 391.237 Q57.1264 390.497 59.4412 390.126 Q61.7791 389.756 63.8393 389.756 Q69.1633 389.756 72.2652 392.187 Q75.367 394.594 75.367 398.714 Q75.367 401.585 73.7235 403.575 Q72.08 405.543 69.0476 406.307 Z\" fill=\"#000000\" fill-rule=\"evenodd\" fill-opacity=\"1\" /><path clip-path=\"url(#clip970)\" d=\"M66.5939 115.704 L54.7884 134.153 L66.5939 134.153 L66.5939 115.704 M65.367 111.63 L71.2466 111.63 L71.2466 134.153 L76.1772 134.153 L76.1772 138.042 L71.2466 138.042 L71.2466 146.19 L66.5939 146.19 L66.5939 138.042 L50.9921 138.042 L50.9921 133.528 L65.367 111.63 Z\" fill=\"#000000\" fill-rule=\"evenodd\" fill-opacity=\"1\" /><circle clip-path=\"url(#clip972)\" cx=\"1189.4\" cy=\"411.103\" r=\"14.4\" fill=\"#009af9\" fill-rule=\"evenodd\" fill-opacity=\"1\" stroke=\"#000000\" stroke-opacity=\"1\" stroke-width=\"3.2\"/>\n<circle clip-path=\"url(#clip972)\" cx=\"2111.44\" cy=\"383.781\" r=\"14.4\" fill=\"#009af9\" fill-rule=\"evenodd\" fill-opacity=\"1\" stroke=\"#000000\" stroke-opacity=\"1\" stroke-width=\"3.2\"/>\n<circle clip-path=\"url(#clip972)\" cx=\"1170.2\" cy=\"693.288\" r=\"14.4\" fill=\"#009af9\" fill-rule=\"evenodd\" fill-opacity=\"1\" stroke=\"#000000\" stroke-opacity=\"1\" stroke-width=\"3.2\"/>\n<circle clip-path=\"url(#clip972)\" cx=\"1684.43\" cy=\"556.703\" r=\"14.4\" fill=\"#009af9\" fill-rule=\"evenodd\" fill-opacity=\"1\" stroke=\"#000000\" stroke-opacity=\"1\" stroke-width=\"3.2\"/>\n<circle clip-path=\"url(#clip972)\" cx=\"844.952\" cy=\"1070.29\" r=\"14.4\" fill=\"#009af9\" fill-rule=\"evenodd\" fill-opacity=\"1\" stroke=\"#000000\" stroke-opacity=\"1\" stroke-width=\"3.2\"/>\n<circle clip-path=\"url(#clip972)\" cx=\"1237.81\" cy=\"719.343\" r=\"14.4\" fill=\"#009af9\" fill-rule=\"evenodd\" fill-opacity=\"1\" stroke=\"#000000\" stroke-opacity=\"1\" stroke-width=\"3.2\"/>\n<circle clip-path=\"url(#clip972)\" cx=\"1345.26\" cy=\"552.826\" r=\"14.4\" fill=\"#009af9\" fill-rule=\"evenodd\" fill-opacity=\"1\" stroke=\"#000000\" stroke-opacity=\"1\" stroke-width=\"3.2\"/>\n<circle clip-path=\"url(#clip972)\" cx=\"1739.78\" cy=\"406.56\" r=\"14.4\" fill=\"#009af9\" fill-rule=\"evenodd\" fill-opacity=\"1\" stroke=\"#000000\" stroke-opacity=\"1\" stroke-width=\"3.2\"/>\n<circle clip-path=\"url(#clip972)\" cx=\"1962.42\" cy=\"531.03\" r=\"14.4\" fill=\"#009af9\" fill-rule=\"evenodd\" fill-opacity=\"1\" stroke=\"#000000\" stroke-opacity=\"1\" stroke-width=\"3.2\"/>\n<circle clip-path=\"url(#clip972)\" cx=\"840.966\" cy=\"625.701\" r=\"14.4\" fill=\"#009af9\" fill-rule=\"evenodd\" fill-opacity=\"1\" stroke=\"#000000\" stroke-opacity=\"1\" stroke-width=\"3.2\"/>\n<circle clip-path=\"url(#clip972)\" cx=\"1883.82\" cy=\"365.217\" r=\"14.4\" fill=\"#009af9\" fill-rule=\"evenodd\" fill-opacity=\"1\" stroke=\"#000000\" stroke-opacity=\"1\" stroke-width=\"3.2\"/>\n<circle clip-path=\"url(#clip972)\" cx=\"901.062\" cy=\"1015.52\" r=\"14.4\" fill=\"#009af9\" fill-rule=\"evenodd\" fill-opacity=\"1\" stroke=\"#000000\" stroke-opacity=\"1\" stroke-width=\"3.2\"/>\n<circle clip-path=\"url(#clip972)\" cx=\"1759.23\" cy=\"564.485\" r=\"14.4\" fill=\"#009af9\" fill-rule=\"evenodd\" fill-opacity=\"1\" stroke=\"#000000\" stroke-opacity=\"1\" stroke-width=\"3.2\"/>\n<circle clip-path=\"url(#clip972)\" cx=\"630.008\" cy=\"797.364\" r=\"14.4\" fill=\"#009af9\" fill-rule=\"evenodd\" fill-opacity=\"1\" stroke=\"#000000\" stroke-opacity=\"1\" stroke-width=\"3.2\"/>\n<circle clip-path=\"url(#clip972)\" cx=\"175.59\" cy=\"1445.72\" r=\"14.4\" fill=\"#009af9\" fill-rule=\"evenodd\" fill-opacity=\"1\" stroke=\"#000000\" stroke-opacity=\"1\" stroke-width=\"3.2\"/>\n<circle clip-path=\"url(#clip972)\" cx=\"1637.15\" cy=\"803.307\" r=\"14.4\" fill=\"#009af9\" fill-rule=\"evenodd\" fill-opacity=\"1\" stroke=\"#000000\" stroke-opacity=\"1\" stroke-width=\"3.2\"/>\n<circle clip-path=\"url(#clip972)\" cx=\"2065.71\" cy=\"87.9763\" r=\"14.4\" fill=\"#009af9\" fill-rule=\"evenodd\" fill-opacity=\"1\" stroke=\"#000000\" stroke-opacity=\"1\" stroke-width=\"3.2\"/>\n<circle clip-path=\"url(#clip972)\" cx=\"1320.55\" cy=\"633.885\" r=\"14.4\" fill=\"#009af9\" fill-rule=\"evenodd\" fill-opacity=\"1\" stroke=\"#000000\" stroke-opacity=\"1\" stroke-width=\"3.2\"/>\n<circle clip-path=\"url(#clip972)\" cx=\"1527.15\" cy=\"815.743\" r=\"14.4\" fill=\"#009af9\" fill-rule=\"evenodd\" fill-opacity=\"1\" stroke=\"#000000\" stroke-opacity=\"1\" stroke-width=\"3.2\"/>\n<circle clip-path=\"url(#clip972)\" cx=\"2164.26\" cy=\"309.13\" r=\"14.4\" fill=\"#009af9\" fill-rule=\"evenodd\" fill-opacity=\"1\" stroke=\"#000000\" stroke-opacity=\"1\" stroke-width=\"3.2\"/>\n<circle clip-path=\"url(#clip972)\" cx=\"1281.07\" cy=\"619.292\" r=\"14.4\" fill=\"#009af9\" fill-rule=\"evenodd\" fill-opacity=\"1\" stroke=\"#000000\" stroke-opacity=\"1\" stroke-width=\"3.2\"/>\n<circle clip-path=\"url(#clip972)\" cx=\"2141.45\" cy=\"229.665\" r=\"14.4\" fill=\"#009af9\" fill-rule=\"evenodd\" fill-opacity=\"1\" stroke=\"#000000\" stroke-opacity=\"1\" stroke-width=\"3.2\"/>\n<circle clip-path=\"url(#clip972)\" cx=\"1436.48\" cy=\"673.458\" r=\"14.4\" fill=\"#009af9\" fill-rule=\"evenodd\" fill-opacity=\"1\" stroke=\"#000000\" stroke-opacity=\"1\" stroke-width=\"3.2\"/>\n<circle clip-path=\"url(#clip972)\" cx=\"1387.45\" cy=\"569.649\" r=\"14.4\" fill=\"#009af9\" fill-rule=\"evenodd\" fill-opacity=\"1\" stroke=\"#000000\" stroke-opacity=\"1\" stroke-width=\"3.2\"/>\n<circle clip-path=\"url(#clip972)\" cx=\"1613.32\" cy=\"276.3\" r=\"14.4\" fill=\"#009af9\" fill-rule=\"evenodd\" fill-opacity=\"1\" stroke=\"#000000\" stroke-opacity=\"1\" stroke-width=\"3.2\"/>\n<circle clip-path=\"url(#clip972)\" cx=\"1373.35\" cy=\"912.155\" r=\"14.4\" fill=\"#009af9\" fill-rule=\"evenodd\" fill-opacity=\"1\" stroke=\"#000000\" stroke-opacity=\"1\" stroke-width=\"3.2\"/>\n<circle clip-path=\"url(#clip972)\" cx=\"1959.83\" cy=\"457.936\" r=\"14.4\" fill=\"#009af9\" fill-rule=\"evenodd\" fill-opacity=\"1\" stroke=\"#000000\" stroke-opacity=\"1\" stroke-width=\"3.2\"/>\n<circle clip-path=\"url(#clip972)\" cx=\"1819.04\" cy=\"472.144\" r=\"14.4\" fill=\"#009af9\" fill-rule=\"evenodd\" fill-opacity=\"1\" stroke=\"#000000\" stroke-opacity=\"1\" stroke-width=\"3.2\"/>\n<circle clip-path=\"url(#clip972)\" cx=\"2111.51\" cy=\"402.619\" r=\"14.4\" fill=\"#009af9\" fill-rule=\"evenodd\" fill-opacity=\"1\" stroke=\"#000000\" stroke-opacity=\"1\" stroke-width=\"3.2\"/>\n<circle clip-path=\"url(#clip972)\" cx=\"1558.38\" cy=\"707.64\" r=\"14.4\" fill=\"#009af9\" fill-rule=\"evenodd\" fill-opacity=\"1\" stroke=\"#000000\" stroke-opacity=\"1\" stroke-width=\"3.2\"/>\n<circle clip-path=\"url(#clip972)\" cx=\"2131.2\" cy=\"341.115\" r=\"14.4\" fill=\"#009af9\" fill-rule=\"evenodd\" fill-opacity=\"1\" stroke=\"#000000\" stroke-opacity=\"1\" stroke-width=\"3.2\"/>\n<circle clip-path=\"url(#clip972)\" cx=\"1361.11\" cy=\"580.491\" r=\"14.4\" fill=\"#009af9\" fill-rule=\"evenodd\" fill-opacity=\"1\" stroke=\"#000000\" stroke-opacity=\"1\" stroke-width=\"3.2\"/>\n<circle clip-path=\"url(#clip972)\" cx=\"1707.36\" cy=\"165.256\" r=\"14.4\" fill=\"#009af9\" fill-rule=\"evenodd\" fill-opacity=\"1\" stroke=\"#000000\" stroke-opacity=\"1\" stroke-width=\"3.2\"/>\n<circle clip-path=\"url(#clip972)\" cx=\"1122.02\" cy=\"1028.78\" r=\"14.4\" fill=\"#009af9\" fill-rule=\"evenodd\" fill-opacity=\"1\" stroke=\"#000000\" stroke-opacity=\"1\" stroke-width=\"3.2\"/>\n<circle clip-path=\"url(#clip972)\" cx=\"1799.34\" cy=\"669.432\" r=\"14.4\" fill=\"#009af9\" fill-rule=\"evenodd\" fill-opacity=\"1\" stroke=\"#000000\" stroke-opacity=\"1\" stroke-width=\"3.2\"/>\n<circle clip-path=\"url(#clip972)\" cx=\"1643.57\" cy=\"433.709\" r=\"14.4\" fill=\"#009af9\" fill-rule=\"evenodd\" fill-opacity=\"1\" stroke=\"#000000\" stroke-opacity=\"1\" stroke-width=\"3.2\"/>\n<circle clip-path=\"url(#clip972)\" cx=\"822.415\" cy=\"817.642\" r=\"14.4\" fill=\"#009af9\" fill-rule=\"evenodd\" fill-opacity=\"1\" stroke=\"#000000\" stroke-opacity=\"1\" stroke-width=\"3.2\"/>\n<circle clip-path=\"url(#clip972)\" cx=\"1961\" cy=\"429.984\" r=\"14.4\" fill=\"#009af9\" fill-rule=\"evenodd\" fill-opacity=\"1\" stroke=\"#000000\" stroke-opacity=\"1\" stroke-width=\"3.2\"/>\n<circle clip-path=\"url(#clip972)\" cx=\"1199.64\" cy=\"906.911\" r=\"14.4\" fill=\"#009af9\" fill-rule=\"evenodd\" fill-opacity=\"1\" stroke=\"#000000\" stroke-opacity=\"1\" stroke-width=\"3.2\"/>\n<circle clip-path=\"url(#clip972)\" cx=\"1907.07\" cy=\"440.65\" r=\"14.4\" fill=\"#009af9\" fill-rule=\"evenodd\" fill-opacity=\"1\" stroke=\"#000000\" stroke-opacity=\"1\" stroke-width=\"3.2\"/>\n<circle clip-path=\"url(#clip972)\" cx=\"1612.22\" cy=\"437.145\" r=\"14.4\" fill=\"#009af9\" fill-rule=\"evenodd\" fill-opacity=\"1\" stroke=\"#000000\" stroke-opacity=\"1\" stroke-width=\"3.2\"/>\n<circle clip-path=\"url(#clip972)\" cx=\"1213.98\" cy=\"513.048\" r=\"14.4\" fill=\"#009af9\" fill-rule=\"evenodd\" fill-opacity=\"1\" stroke=\"#000000\" stroke-opacity=\"1\" stroke-width=\"3.2\"/>\n<circle clip-path=\"url(#clip972)\" cx=\"1436.85\" cy=\"786.38\" r=\"14.4\" fill=\"#009af9\" fill-rule=\"evenodd\" fill-opacity=\"1\" stroke=\"#000000\" stroke-opacity=\"1\" stroke-width=\"3.2\"/>\n<circle clip-path=\"url(#clip972)\" cx=\"1820.55\" cy=\"550.855\" r=\"14.4\" fill=\"#009af9\" fill-rule=\"evenodd\" fill-opacity=\"1\" stroke=\"#000000\" stroke-opacity=\"1\" stroke-width=\"3.2\"/>\n<circle clip-path=\"url(#clip972)\" cx=\"1112.87\" cy=\"679.677\" r=\"14.4\" fill=\"#009af9\" fill-rule=\"evenodd\" fill-opacity=\"1\" stroke=\"#000000\" stroke-opacity=\"1\" stroke-width=\"3.2\"/>\n<circle clip-path=\"url(#clip972)\" cx=\"1330.4\" cy=\"578.326\" r=\"14.4\" fill=\"#009af9\" fill-rule=\"evenodd\" fill-opacity=\"1\" stroke=\"#000000\" stroke-opacity=\"1\" stroke-width=\"3.2\"/>\n<circle clip-path=\"url(#clip972)\" cx=\"805.194\" cy=\"904.19\" r=\"14.4\" fill=\"#009af9\" fill-rule=\"evenodd\" fill-opacity=\"1\" stroke=\"#000000\" stroke-opacity=\"1\" stroke-width=\"3.2\"/>\n<circle clip-path=\"url(#clip972)\" cx=\"1383.38\" cy=\"783.144\" r=\"14.4\" fill=\"#009af9\" fill-rule=\"evenodd\" fill-opacity=\"1\" stroke=\"#000000\" stroke-opacity=\"1\" stroke-width=\"3.2\"/>\n<circle clip-path=\"url(#clip972)\" cx=\"1306.87\" cy=\"664.876\" r=\"14.4\" fill=\"#009af9\" fill-rule=\"evenodd\" fill-opacity=\"1\" stroke=\"#000000\" stroke-opacity=\"1\" stroke-width=\"3.2\"/>\n<circle clip-path=\"url(#clip972)\" cx=\"1525.7\" cy=\"393.507\" r=\"14.4\" fill=\"#009af9\" fill-rule=\"evenodd\" fill-opacity=\"1\" stroke=\"#000000\" stroke-opacity=\"1\" stroke-width=\"3.2\"/>\n<circle clip-path=\"url(#clip972)\" cx=\"1313.79\" cy=\"514.97\" r=\"14.4\" fill=\"#009af9\" fill-rule=\"evenodd\" fill-opacity=\"1\" stroke=\"#000000\" stroke-opacity=\"1\" stroke-width=\"3.2\"/>\n<circle clip-path=\"url(#clip972)\" cx=\"1108.93\" cy=\"657.97\" r=\"14.4\" fill=\"#009af9\" fill-rule=\"evenodd\" fill-opacity=\"1\" stroke=\"#000000\" stroke-opacity=\"1\" stroke-width=\"3.2\"/>\n<circle clip-path=\"url(#clip972)\" cx=\"1684.75\" cy=\"594.483\" r=\"14.4\" fill=\"#009af9\" fill-rule=\"evenodd\" fill-opacity=\"1\" stroke=\"#000000\" stroke-opacity=\"1\" stroke-width=\"3.2\"/>\n<circle clip-path=\"url(#clip972)\" cx=\"2289.34\" cy=\"102.595\" r=\"14.4\" fill=\"#009af9\" fill-rule=\"evenodd\" fill-opacity=\"1\" stroke=\"#000000\" stroke-opacity=\"1\" stroke-width=\"3.2\"/>\n<circle clip-path=\"url(#clip972)\" cx=\"897.617\" cy=\"905.53\" r=\"14.4\" fill=\"#009af9\" fill-rule=\"evenodd\" fill-opacity=\"1\" stroke=\"#000000\" stroke-opacity=\"1\" stroke-width=\"3.2\"/>\n<circle clip-path=\"url(#clip972)\" cx=\"2148.51\" cy=\"266.247\" r=\"14.4\" fill=\"#009af9\" fill-rule=\"evenodd\" fill-opacity=\"1\" stroke=\"#000000\" stroke-opacity=\"1\" stroke-width=\"3.2\"/>\n<circle clip-path=\"url(#clip972)\" cx=\"1153.37\" cy=\"940.846\" r=\"14.4\" fill=\"#009af9\" fill-rule=\"evenodd\" fill-opacity=\"1\" stroke=\"#000000\" stroke-opacity=\"1\" stroke-width=\"3.2\"/>\n<circle clip-path=\"url(#clip972)\" cx=\"1663.56\" cy=\"431.169\" r=\"14.4\" fill=\"#009af9\" fill-rule=\"evenodd\" fill-opacity=\"1\" stroke=\"#000000\" stroke-opacity=\"1\" stroke-width=\"3.2\"/>\n<circle clip-path=\"url(#clip972)\" cx=\"1709.44\" cy=\"275.095\" r=\"14.4\" fill=\"#009af9\" fill-rule=\"evenodd\" fill-opacity=\"1\" stroke=\"#000000\" stroke-opacity=\"1\" stroke-width=\"3.2\"/>\n<circle clip-path=\"url(#clip972)\" cx=\"1669.87\" cy=\"613.822\" r=\"14.4\" fill=\"#009af9\" fill-rule=\"evenodd\" fill-opacity=\"1\" stroke=\"#000000\" stroke-opacity=\"1\" stroke-width=\"3.2\"/>\n<circle clip-path=\"url(#clip972)\" cx=\"1468.53\" cy=\"620.902\" r=\"14.4\" fill=\"#009af9\" fill-rule=\"evenodd\" fill-opacity=\"1\" stroke=\"#000000\" stroke-opacity=\"1\" stroke-width=\"3.2\"/>\n<circle clip-path=\"url(#clip972)\" cx=\"1681.76\" cy=\"586.714\" r=\"14.4\" fill=\"#009af9\" fill-rule=\"evenodd\" fill-opacity=\"1\" stroke=\"#000000\" stroke-opacity=\"1\" stroke-width=\"3.2\"/>\n<circle clip-path=\"url(#clip972)\" cx=\"1551.24\" cy=\"592.731\" r=\"14.4\" fill=\"#009af9\" fill-rule=\"evenodd\" fill-opacity=\"1\" stroke=\"#000000\" stroke-opacity=\"1\" stroke-width=\"3.2\"/>\n<circle clip-path=\"url(#clip972)\" cx=\"1149.76\" cy=\"618.851\" r=\"14.4\" fill=\"#009af9\" fill-rule=\"evenodd\" fill-opacity=\"1\" stroke=\"#000000\" stroke-opacity=\"1\" stroke-width=\"3.2\"/>\n<circle clip-path=\"url(#clip972)\" cx=\"956.96\" cy=\"929.661\" r=\"14.4\" fill=\"#009af9\" fill-rule=\"evenodd\" fill-opacity=\"1\" stroke=\"#000000\" stroke-opacity=\"1\" stroke-width=\"3.2\"/>\n<circle clip-path=\"url(#clip972)\" cx=\"1819.46\" cy=\"186.757\" r=\"14.4\" fill=\"#009af9\" fill-rule=\"evenodd\" fill-opacity=\"1\" stroke=\"#000000\" stroke-opacity=\"1\" stroke-width=\"3.2\"/>\n<circle clip-path=\"url(#clip972)\" cx=\"1522.66\" cy=\"403.128\" r=\"14.4\" fill=\"#009af9\" fill-rule=\"evenodd\" fill-opacity=\"1\" stroke=\"#000000\" stroke-opacity=\"1\" stroke-width=\"3.2\"/>\n<circle clip-path=\"url(#clip972)\" cx=\"1658.23\" cy=\"588.844\" r=\"14.4\" fill=\"#009af9\" fill-rule=\"evenodd\" fill-opacity=\"1\" stroke=\"#000000\" stroke-opacity=\"1\" stroke-width=\"3.2\"/>\n<circle clip-path=\"url(#clip972)\" cx=\"1443.05\" cy=\"441.503\" r=\"14.4\" fill=\"#009af9\" fill-rule=\"evenodd\" fill-opacity=\"1\" stroke=\"#000000\" stroke-opacity=\"1\" stroke-width=\"3.2\"/>\n<circle clip-path=\"url(#clip972)\" cx=\"1552.99\" cy=\"608.903\" r=\"14.4\" fill=\"#009af9\" fill-rule=\"evenodd\" fill-opacity=\"1\" stroke=\"#000000\" stroke-opacity=\"1\" stroke-width=\"3.2\"/>\n<circle clip-path=\"url(#clip972)\" cx=\"1159.53\" cy=\"772.681\" r=\"14.4\" fill=\"#009af9\" fill-rule=\"evenodd\" fill-opacity=\"1\" stroke=\"#000000\" stroke-opacity=\"1\" stroke-width=\"3.2\"/>\n<circle clip-path=\"url(#clip972)\" cx=\"1601.23\" cy=\"655.06\" r=\"14.4\" fill=\"#009af9\" fill-rule=\"evenodd\" fill-opacity=\"1\" stroke=\"#000000\" stroke-opacity=\"1\" stroke-width=\"3.2\"/>\n<circle clip-path=\"url(#clip972)\" cx=\"2018.56\" cy=\"137.15\" r=\"14.4\" fill=\"#009af9\" fill-rule=\"evenodd\" fill-opacity=\"1\" stroke=\"#000000\" stroke-opacity=\"1\" stroke-width=\"3.2\"/>\n<circle clip-path=\"url(#clip972)\" cx=\"1427.72\" cy=\"512.337\" r=\"14.4\" fill=\"#009af9\" fill-rule=\"evenodd\" fill-opacity=\"1\" stroke=\"#000000\" stroke-opacity=\"1\" stroke-width=\"3.2\"/>\n<circle clip-path=\"url(#clip972)\" cx=\"1475.81\" cy=\"447.924\" r=\"14.4\" fill=\"#009af9\" fill-rule=\"evenodd\" fill-opacity=\"1\" stroke=\"#000000\" stroke-opacity=\"1\" stroke-width=\"3.2\"/>\n<circle clip-path=\"url(#clip972)\" cx=\"1419.49\" cy=\"666.685\" r=\"14.4\" fill=\"#009af9\" fill-rule=\"evenodd\" fill-opacity=\"1\" stroke=\"#000000\" stroke-opacity=\"1\" stroke-width=\"3.2\"/>\n<circle clip-path=\"url(#clip972)\" cx=\"1244.13\" cy=\"905.85\" r=\"14.4\" fill=\"#009af9\" fill-rule=\"evenodd\" fill-opacity=\"1\" stroke=\"#000000\" stroke-opacity=\"1\" stroke-width=\"3.2\"/>\n<circle clip-path=\"url(#clip972)\" cx=\"1107.74\" cy=\"829.161\" r=\"14.4\" fill=\"#009af9\" fill-rule=\"evenodd\" fill-opacity=\"1\" stroke=\"#000000\" stroke-opacity=\"1\" stroke-width=\"3.2\"/>\n<circle clip-path=\"url(#clip972)\" cx=\"1169.11\" cy=\"909.671\" r=\"14.4\" fill=\"#009af9\" fill-rule=\"evenodd\" fill-opacity=\"1\" stroke=\"#000000\" stroke-opacity=\"1\" stroke-width=\"3.2\"/>\n<circle clip-path=\"url(#clip972)\" cx=\"926.266\" cy=\"958.56\" r=\"14.4\" fill=\"#009af9\" fill-rule=\"evenodd\" fill-opacity=\"1\" stroke=\"#000000\" stroke-opacity=\"1\" stroke-width=\"3.2\"/>\n<circle clip-path=\"url(#clip972)\" cx=\"357.403\" cy=\"1185.47\" r=\"14.4\" fill=\"#009af9\" fill-rule=\"evenodd\" fill-opacity=\"1\" stroke=\"#000000\" stroke-opacity=\"1\" stroke-width=\"3.2\"/>\n<circle clip-path=\"url(#clip972)\" cx=\"1569.84\" cy=\"477.587\" r=\"14.4\" fill=\"#009af9\" fill-rule=\"evenodd\" fill-opacity=\"1\" stroke=\"#000000\" stroke-opacity=\"1\" stroke-width=\"3.2\"/>\n<circle clip-path=\"url(#clip972)\" cx=\"1715.98\" cy=\"405.054\" r=\"14.4\" fill=\"#009af9\" fill-rule=\"evenodd\" fill-opacity=\"1\" stroke=\"#000000\" stroke-opacity=\"1\" stroke-width=\"3.2\"/>\n<circle clip-path=\"url(#clip972)\" cx=\"1549.77\" cy=\"610.449\" r=\"14.4\" fill=\"#009af9\" fill-rule=\"evenodd\" fill-opacity=\"1\" stroke=\"#000000\" stroke-opacity=\"1\" stroke-width=\"3.2\"/>\n<circle clip-path=\"url(#clip972)\" cx=\"673.954\" cy=\"1154.2\" r=\"14.4\" fill=\"#009af9\" fill-rule=\"evenodd\" fill-opacity=\"1\" stroke=\"#000000\" stroke-opacity=\"1\" stroke-width=\"3.2\"/>\n<circle clip-path=\"url(#clip972)\" cx=\"2210.69\" cy=\"492.123\" r=\"14.4\" fill=\"#009af9\" fill-rule=\"evenodd\" fill-opacity=\"1\" stroke=\"#000000\" stroke-opacity=\"1\" stroke-width=\"3.2\"/>\n<circle clip-path=\"url(#clip972)\" cx=\"1138.12\" cy=\"644.977\" r=\"14.4\" fill=\"#009af9\" fill-rule=\"evenodd\" fill-opacity=\"1\" stroke=\"#000000\" stroke-opacity=\"1\" stroke-width=\"3.2\"/>\n<circle clip-path=\"url(#clip972)\" cx=\"1834.65\" cy=\"286.227\" r=\"14.4\" fill=\"#009af9\" fill-rule=\"evenodd\" fill-opacity=\"1\" stroke=\"#000000\" stroke-opacity=\"1\" stroke-width=\"3.2\"/>\n<circle clip-path=\"url(#clip972)\" cx=\"2131.6\" cy=\"317.805\" r=\"14.4\" fill=\"#009af9\" fill-rule=\"evenodd\" fill-opacity=\"1\" stroke=\"#000000\" stroke-opacity=\"1\" stroke-width=\"3.2\"/>\n<circle clip-path=\"url(#clip972)\" cx=\"1776.68\" cy=\"363\" r=\"14.4\" fill=\"#009af9\" fill-rule=\"evenodd\" fill-opacity=\"1\" stroke=\"#000000\" stroke-opacity=\"1\" stroke-width=\"3.2\"/>\n<circle clip-path=\"url(#clip972)\" cx=\"1805.66\" cy=\"553.902\" r=\"14.4\" fill=\"#009af9\" fill-rule=\"evenodd\" fill-opacity=\"1\" stroke=\"#000000\" stroke-opacity=\"1\" stroke-width=\"3.2\"/>\n<circle clip-path=\"url(#clip972)\" cx=\"1632.95\" cy=\"446.175\" r=\"14.4\" fill=\"#009af9\" fill-rule=\"evenodd\" fill-opacity=\"1\" stroke=\"#000000\" stroke-opacity=\"1\" stroke-width=\"3.2\"/>\n<circle clip-path=\"url(#clip972)\" cx=\"1456.04\" cy=\"470.957\" r=\"14.4\" fill=\"#009af9\" fill-rule=\"evenodd\" fill-opacity=\"1\" stroke=\"#000000\" stroke-opacity=\"1\" stroke-width=\"3.2\"/>\n<circle clip-path=\"url(#clip972)\" cx=\"1701.79\" cy=\"533.778\" r=\"14.4\" fill=\"#009af9\" fill-rule=\"evenodd\" fill-opacity=\"1\" stroke=\"#000000\" stroke-opacity=\"1\" stroke-width=\"3.2\"/>\n<circle clip-path=\"url(#clip972)\" cx=\"1648.54\" cy=\"526.721\" r=\"14.4\" fill=\"#009af9\" fill-rule=\"evenodd\" fill-opacity=\"1\" stroke=\"#000000\" stroke-opacity=\"1\" stroke-width=\"3.2\"/>\n<circle clip-path=\"url(#clip972)\" cx=\"1390\" cy=\"772.728\" r=\"14.4\" fill=\"#009af9\" fill-rule=\"evenodd\" fill-opacity=\"1\" stroke=\"#000000\" stroke-opacity=\"1\" stroke-width=\"3.2\"/>\n<circle clip-path=\"url(#clip972)\" cx=\"1352.77\" cy=\"605.377\" r=\"14.4\" fill=\"#009af9\" fill-rule=\"evenodd\" fill-opacity=\"1\" stroke=\"#000000\" stroke-opacity=\"1\" stroke-width=\"3.2\"/>\n<circle clip-path=\"url(#clip972)\" cx=\"1403.5\" cy=\"856.818\" r=\"14.4\" fill=\"#009af9\" fill-rule=\"evenodd\" fill-opacity=\"1\" stroke=\"#000000\" stroke-opacity=\"1\" stroke-width=\"3.2\"/>\n<circle clip-path=\"url(#clip972)\" cx=\"1761.82\" cy=\"349.695\" r=\"14.4\" fill=\"#009af9\" fill-rule=\"evenodd\" fill-opacity=\"1\" stroke=\"#000000\" stroke-opacity=\"1\" stroke-width=\"3.2\"/>\n<circle clip-path=\"url(#clip972)\" cx=\"1895.05\" cy=\"345.454\" r=\"14.4\" fill=\"#009af9\" fill-rule=\"evenodd\" fill-opacity=\"1\" stroke=\"#000000\" stroke-opacity=\"1\" stroke-width=\"3.2\"/>\n<path clip-path=\"url(#clip970)\" d=\"M186.863 198.898 L463.351 198.898 L463.351 95.2176 L186.863 95.2176  Z\" fill=\"#ffffff\" fill-rule=\"evenodd\" fill-opacity=\"1\"/>\n<polyline clip-path=\"url(#clip970)\" style=\"stroke:#000000; stroke-linecap:round; stroke-linejoin:round; stroke-width:4; stroke-opacity:1; fill:none\" points=\"186.863,198.898 463.351,198.898 463.351,95.2176 186.863,95.2176 186.863,198.898 \"/>\n<circle clip-path=\"url(#clip970)\" cx=\"286.444\" cy=\"147.058\" r=\"23.04\" fill=\"#009af9\" fill-rule=\"evenodd\" fill-opacity=\"1\" stroke=\"#000000\" stroke-opacity=\"1\" stroke-width=\"5.12\"/>\n<path clip-path=\"url(#clip970)\" d=\"M399.868 166.745 Q398.063 171.375 396.35 172.787 Q394.637 174.199 391.766 174.199 L388.364 174.199 L388.364 170.634 L390.864 170.634 Q392.623 170.634 393.595 169.8 Q394.567 168.967 395.748 165.865 L396.512 163.921 L386.026 138.412 L390.54 138.412 L398.641 158.689 L406.743 138.412 L411.257 138.412 L399.868 166.745 Z\" fill=\"#000000\" fill-rule=\"evenodd\" fill-opacity=\"1\" /><path clip-path=\"url(#clip970)\" d=\"M418.549 160.402 L426.188 160.402 L426.188 134.037 L417.877 135.703 L417.877 131.444 L426.141 129.778 L430.817 129.778 L430.817 160.402 L438.456 160.402 L438.456 164.338 L418.549 164.338 L418.549 160.402 Z\" fill=\"#000000\" fill-rule=\"evenodd\" fill-opacity=\"1\" /></svg>\n"
     },
     "execution_count": 2,
     "metadata": {},
     "output_type": "execute_result"
    }
   ],
   "source": [
    "using Plots\n",
    "scatter(x,y)"
   ]
  },
  {
   "cell_type": "code",
   "execution_count": 4,
   "metadata": {
    "tags": []
   },
   "outputs": [
    {
     "data": {
      "text/html": [
       "<div><div style = \"float: left;\"><span>3×2 DataFrame</span></div><div style = \"clear: both;\"></div></div><div class = \"data-frame\" style = \"overflow-x: scroll;\"><table class = \"data-frame\" style = \"margin-bottom: 6px;\"><thead><tr class = \"header\"><th class = \"rowNumber\" style = \"font-weight: bold; text-align: right;\">Row</th><th style = \"text-align: left;\">X</th><th style = \"text-align: left;\">Y</th></tr><tr class = \"subheader headerLastRow\"><th class = \"rowNumber\" style = \"font-weight: bold; text-align: right;\"></th><th title = \"Float64\" style = \"text-align: left;\">Float64</th><th title = \"Float64\" style = \"text-align: left;\">Float64</th></tr></thead><tbody><tr><td class = \"rowNumber\" style = \"font-weight: bold; text-align: right;\">1</td><td style = \"text-align: right;\">-0.453468</td><td style = \"text-align: right;\">2.98765</td></tr><tr><td class = \"rowNumber\" style = \"font-weight: bold; text-align: right;\">2</td><td style = \"text-align: right;\">5.16996</td><td style = \"text-align: right;\">3.08567</td></tr><tr><td class = \"rowNumber\" style = \"font-weight: bold; text-align: right;\">3</td><td style = \"text-align: right;\">-0.570555</td><td style = \"text-align: right;\">1.97533</td></tr></tbody></table></div>"
      ],
      "text/latex": [
       "\\begin{tabular}{r|cc}\n",
       "\t& X & Y\\\\\n",
       "\t\\hline\n",
       "\t& Float64 & Float64\\\\\n",
       "\t\\hline\n",
       "\t1 & -0.453468 & 2.98765 \\\\\n",
       "\t2 & 5.16996 & 3.08567 \\\\\n",
       "\t3 & -0.570555 & 1.97533 \\\\\n",
       "\\end{tabular}\n"
      ],
      "text/plain": [
       "\u001b[1m3×2 DataFrame\u001b[0m\n",
       "\u001b[1m Row \u001b[0m│\u001b[1m X         \u001b[0m\u001b[1m Y       \u001b[0m\n",
       "     │\u001b[90m Float64   \u001b[0m\u001b[90m Float64 \u001b[0m\n",
       "─────┼────────────────────\n",
       "   1 │ -0.453468  2.98765\n",
       "   2 │  5.16996   3.08567\n",
       "   3 │ -0.570555  1.97533"
      ]
     },
     "metadata": {},
     "output_type": "display_data"
    }
   ],
   "source": [
    "using DataFrames\n",
    "data = DataFrame(X=x, Y=y);\n",
    "first(data, 3)"
   ]
  },
  {
   "cell_type": "code",
   "execution_count": 1,
   "metadata": {
    "tags": []
   },
   "outputs": [
    {
     "data": {
      "text/plain": [
       "FormulaTerm\n",
       "Response:\n",
       "  Y(unknown)\n",
       "Predictors:\n",
       "  X(unknown)"
      ]
     },
     "metadata": {},
     "output_type": "display_data"
    }
   ],
   "source": [
    "using GLM\n",
    "fm = @formula(Y ~ X)"
   ]
  },
  {
   "cell_type": "code",
   "execution_count": 5,
   "metadata": {},
   "outputs": [
    {
     "data": {
      "text/plain": [
       "StatsModels.TableRegressionModel{LinearModel{GLM.LmResp{Vector{Float64}}, GLM.DensePredChol{Float64, LinearAlgebra.CholeskyPivoted{Float64, Matrix{Float64}, Vector{Int64}}}}, Matrix{Float64}}\n",
       "\n",
       "Y ~ 1 + X\n",
       "\n",
       "Coefficients:\n",
       "────────────────────────────────────────────────────────────────────────\n",
       "                Coef.  Std. Error      t  Pr(>|t|)  Lower 95%  Upper 95%\n",
       "────────────────────────────────────────────────────────────────────────\n",
       "(Intercept)  1.93265    0.058527   33.02    <1e-54   1.8165     2.04879\n",
       "X            0.290973   0.0205327  14.17    <1e-24   0.250226   0.331719\n",
       "────────────────────────────────────────────────────────────────────────"
      ]
     },
     "metadata": {},
     "output_type": "display_data"
    }
   ],
   "source": [
    "fit_ols = lm(fm, data)"
   ]
  },
  {
   "attachments": {},
   "cell_type": "markdown",
   "metadata": {},
   "source": [
    "## Running code from files\n",
    "From Terminal, navigate to where `ols.jl` sits:\n",
    "- `julia --project=. ols.jl`\n",
    "\n",
    "From REPL in an interactive Julia session:\n",
    "- `include(\"ols.jl\")`"
   ]
  },
  {
   "cell_type": "markdown",
   "metadata": {},
   "source": [
    "<hr style=\"margin-top: 5px; margin-bottom: 5px\">\n",
    "<a href=\"./04_Julia_Plots.ipynb\"> <<< 04 - Julia Plots <<< </a>\n",
    "<hr style=\"margin-top: 5px; margin-bottom: 5px\">"
   ]
  },
  {
   "cell_type": "markdown",
   "metadata": {
    "Collapsed": "false"
   },
   "source": [
    "&copy; 2022\n",
    "<a rel=\"license\" href=\"http://creativecommons.org/licenses/by/4.0/\"><img style=\"float: right\" alt=\"Creative Commons Licence\" style=\"border-width:0\" src=\"https://i.creativecommons.org/l/by/4.0/88x31.png\" /></a>"
   ]
  }
 ],
 "metadata": {
  "kernelspec": {
   "display_name": "Julia 1.8.4",
   "language": "julia",
   "name": "julia-1.8"
  },
  "language_info": {
   "file_extension": ".jl",
   "mimetype": "application/julia",
   "name": "julia",
   "version": "1.8.4"
  }
 },
 "nbformat": 4,
 "nbformat_minor": 4
}
