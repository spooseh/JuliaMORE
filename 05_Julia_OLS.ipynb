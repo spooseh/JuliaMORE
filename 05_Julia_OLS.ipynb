{
 "cells": [
  {
   "cell_type": "markdown",
   "metadata": {},
   "source": [
    "<hr style=\"margin-top: 5px; margin-bottom: 5px\">\n",
    "<a href=\"./04_Julia_Plots.ipynb\"> <<< 04 - Julia Plots <<< </a>\n",
    "<hr style=\"margin-top: 5px; margin-bottom: 5px\">"
   ]
  },
  {
   "cell_type": "markdown",
   "metadata": {},
   "source": [
    "# Julia OLS"
   ]
  },
  {
   "cell_type": "markdown",
   "metadata": {
    "tags": []
   },
   "source": [
    "From stdlib:\n",
    "- Random for generating data\n",
    "- Plots for a scatter plot\n",
    "\n",
    "Need to be installed first:\n",
    "- [StatsModels](https://juliastats.org/StatsModels.jl/stable/) for set the R-like \"formula\"\n",
    "- [GLM](https://juliastats.org/GLM.jl/stable/) for OLS fitting"
   ]
  },
  {
   "cell_type": "code",
   "execution_count": null,
   "metadata": {},
   "outputs": [],
   "source": [
    "using Random\n",
    "Random.seed!(1984)\n",
    "n = 100\n",
    "\n",
    "x = 2.5 * randn(n) .+ 1.5   # Array of n values with mean = 1.5, stddev = 2.5\n",
    "res = 0.5 * randn(n)        # Generate n residual terms\n",
    "y = 2 .+ 0.3 * x .+ res          # Actual values of Y\n",
    "\n",
    "using Plots\n",
    "scatter(x,y)\n",
    "\n",
    "using DataFrames\n",
    "data = DataFrame(X=x, Y=y)\n",
    "\n",
    "using StatsModels\n",
    "fm = @formula(Y ~ X)\n",
    "\n",
    "using GLM\n",
    "mod = lm(fm, data)"
   ]
  },
  {
   "cell_type": "markdown",
   "metadata": {},
   "source": [
    "- `julia --project=./ ols.jl` from Terminal\n",
    "- `include(\"ols.jl\")` from REPL"
   ]
  },
  {
   "cell_type": "markdown",
   "metadata": {},
   "source": [
    "<hr style=\"margin-top: 5px; margin-bottom: 5px\">\n",
    "<a href=\"./04_Julia_Plots.ipynb\"> <<< 04 - Julia Plots <<< </a>\n",
    "<hr style=\"margin-top: 5px; margin-bottom: 5px\">"
   ]
  },
  {
   "cell_type": "markdown",
   "metadata": {
    "Collapsed": "false"
   },
   "source": [
    "&copy; 2022\n",
    "<a rel=\"license\" href=\"http://creativecommons.org/licenses/by/4.0/\"><img style=\"float: right\" alt=\"Creative Commons Licence\" style=\"border-width:0\" src=\"https://i.creativecommons.org/l/by/4.0/88x31.png\" /></a>"
   ]
  }
 ],
 "metadata": {
  "kernelspec": {
   "display_name": "Julia 1.7.2",
   "language": "julia",
   "name": "julia-1.7"
  },
  "language_info": {
   "file_extension": ".jl",
   "mimetype": "application/julia",
   "name": "julia",
   "version": "1.7.2"
  }
 },
 "nbformat": 4,
 "nbformat_minor": 4
}
